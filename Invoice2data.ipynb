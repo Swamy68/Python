{
 "cells": [
  {
   "cell_type": "code",
   "execution_count": 1,
   "metadata": {},
   "outputs": [],
   "source": [
    "import pandas as pd\n",
    "import numpy as np"
   ]
  },
  {
   "cell_type": "code",
   "execution_count": 6,
   "metadata": {},
   "outputs": [
    {
     "name": "stdout",
     "output_type": "stream",
     "text": [
      "Requirement already satisfied: invoice2data in c:\\users\\venkataswamyn\\appdata\\local\\programs\\python\\python38\\lib\\site-packages (0.3.5)\n",
      "Requirement already satisfied: pillow in c:\\users\\venkataswamyn\\appdata\\local\\programs\\python\\python38\\lib\\site-packages (from invoice2data) (7.2.0)\n",
      "Requirement already satisfied: chardet in c:\\users\\venkataswamyn\\appdata\\local\\programs\\python\\python38\\lib\\site-packages (from invoice2data) (3.0.4)\n",
      "Requirement already satisfied: unidecode in c:\\users\\venkataswamyn\\appdata\\local\\programs\\python\\python38\\lib\\site-packages (from invoice2data) (1.1.1)\n",
      "Requirement already satisfied: pyyaml in c:\\users\\venkataswamyn\\appdata\\local\\programs\\python\\python38\\lib\\site-packages (from invoice2data) (5.3.1)\n",
      "Requirement already satisfied: dateparser in c:\\users\\venkataswamyn\\appdata\\local\\programs\\python\\python38\\lib\\site-packages (from invoice2data) (0.7.6)\n",
      "Requirement already satisfied: regex!=2019.02.19 in c:\\users\\venkataswamyn\\appdata\\local\\programs\\python\\python38\\lib\\site-packages (from dateparser->invoice2data) (2020.7.14)\n",
      "Requirement already satisfied: pytz in c:\\users\\venkataswamyn\\appdata\\local\\programs\\python\\python38\\lib\\site-packages (from dateparser->invoice2data) (2020.1)\n",
      "Requirement already satisfied: tzlocal in c:\\users\\venkataswamyn\\appdata\\local\\programs\\python\\python38\\lib\\site-packages (from dateparser->invoice2data) (2.1)\n",
      "Requirement already satisfied: python-dateutil in c:\\users\\venkataswamyn\\appdata\\local\\programs\\python\\python38\\lib\\site-packages (from dateparser->invoice2data) (2.8.1)\n",
      "Requirement already satisfied: six>=1.5 in c:\\users\\venkataswamyn\\appdata\\local\\programs\\python\\python38\\lib\\site-packages (from python-dateutil->dateparser->invoice2data) (1.15.0)\n",
      "Note: you may need to restart the kernel to use updated packages.\n"
     ]
    }
   ],
   "source": [
    "pip install invoice2data"
   ]
  },
  {
   "cell_type": "code",
   "execution_count": 47,
   "metadata": {},
   "outputs": [],
   "source": [
    "import invoice2data"
   ]
  },
  {
   "cell_type": "code",
   "execution_count": 19,
   "metadata": {},
   "outputs": [
    {
     "data": {
      "text/plain": [
       "1"
      ]
     },
     "execution_count": 19,
     "metadata": {},
     "output_type": "execute_result"
    }
   ],
   "source": [
    "import os\n",
    "\n",
    "file_path = \"E:\\Myworkspace\\Billing Data\\Sep-20\\Others\\August\\IMAGINEA\\Invoice_Ask Media_August'20.pdf\"\n",
    "\n",
    "# writing data in variable\n",
    "text = os.popen(\"pdftotext {}\".format(file_path)).read()\n",
    "\n",
    "# writing data in file\n",
    "os.system(\"pdftotext {} {}\".format(file_path, \"data.txt\"))"
   ]
  },
  {
   "cell_type": "code",
   "execution_count": 41,
   "metadata": {},
   "outputs": [],
   "source": [
    "from invoice2data import extract_data"
   ]
  },
  {
   "cell_type": "code",
   "execution_count": 49,
   "metadata": {},
   "outputs": [
    {
     "ename": "NameError",
     "evalue": "name 'pdftotext' is not defined",
     "output_type": "error",
     "traceback": [
      "\u001b[1;31m---------------------------------------------------------------------------\u001b[0m",
      "\u001b[1;31mNameError\u001b[0m                                 Traceback (most recent call last)",
      "\u001b[1;32m<ipython-input-49-be4969535afb>\u001b[0m in \u001b[0;36m<module>\u001b[1;34m\u001b[0m\n\u001b[1;32m----> 1\u001b[1;33m \u001b[0mresult\u001b[0m \u001b[1;33m=\u001b[0m \u001b[0mpdftotext\u001b[0m\u001b[1;33m(\u001b[0m\u001b[1;34m\"E:\\Myworkspace\\Billing Data\\Sep-20\\Others\\August\\IMAGINEA\\Invoice_Ask Media_August'20.pdf\"\u001b[0m\u001b[1;33m)\u001b[0m\u001b[1;33m\u001b[0m\u001b[1;33m\u001b[0m\u001b[0m\n\u001b[0m",
      "\u001b[1;31mNameError\u001b[0m: name 'pdftotext' is not defined"
     ]
    }
   ],
   "source": [
    "result = pdftotext(\"E:\\Myworkspace\\Billing Data\\Sep-20\\Others\\August\\IMAGINEA\\Invoice_Ask Media_August'20.pdf\")"
   ]
  },
  {
   "cell_type": "code",
   "execution_count": null,
   "metadata": {},
   "outputs": [],
   "source": [
    "invoice2data"
   ]
  },
  {
   "cell_type": "code",
   "execution_count": 40,
   "metadata": {},
   "outputs": [
    {
     "ename": "NameError",
     "evalue": "name 'pypdf2' is not defined",
     "output_type": "error",
     "traceback": [
      "\u001b[1;31m---------------------------------------------------------------------------\u001b[0m",
      "\u001b[1;31mNameError\u001b[0m                                 Traceback (most recent call last)",
      "\u001b[1;32m<ipython-input-40-fb89ed30ddfa>\u001b[0m in \u001b[0;36m<module>\u001b[1;34m\u001b[0m\n\u001b[0;32m      1\u001b[0m \u001b[1;32mimport\u001b[0m \u001b[0mPyPDF2\u001b[0m \u001b[1;32mas\u001b[0m \u001b[0mpypdf\u001b[0m\u001b[1;33m\u001b[0m\u001b[1;33m\u001b[0m\u001b[0m\n\u001b[0;32m      2\u001b[0m \u001b[0mpdfobject\u001b[0m\u001b[1;33m=\u001b[0m\u001b[0mopen\u001b[0m\u001b[1;33m(\u001b[0m \u001b[1;34m'E:\\Invoice_Ask Media.pdf'\u001b[0m\u001b[1;33m,\u001b[0m\u001b[1;34m'rb'\u001b[0m\u001b[1;33m)\u001b[0m\u001b[1;33m\u001b[0m\u001b[1;33m\u001b[0m\u001b[0m\n\u001b[1;32m----> 3\u001b[1;33m \u001b[0mpdf\u001b[0m\u001b[1;33m=\u001b[0m\u001b[0mpypdf2\u001b[0m\u001b[1;33m.\u001b[0m\u001b[0mPdfFileReader\u001b[0m\u001b[1;33m(\u001b[0m\u001b[0mpdfobject\u001b[0m\u001b[1;33m)\u001b[0m\u001b[1;33m\u001b[0m\u001b[1;33m\u001b[0m\u001b[0m\n\u001b[0m",
      "\u001b[1;31mNameError\u001b[0m: name 'pypdf2' is not defined"
     ]
    }
   ],
   "source": [
    "import PyPDF2 as pypdf\n",
    "pdfobject=open( 'E:\\Invoice_Ask Media.pdf','rb')\n",
    "pdf=pypdf2.PdfFileReader(pdfobject)"
   ]
  },
  {
   "cell_type": "code",
   "execution_count": 28,
   "metadata": {},
   "outputs": [
    {
     "name": "stdout",
     "output_type": "stream",
     "text": [
      "Collecting PyPDF2\n",
      "  Downloading PyPDF2-1.26.0.tar.gz (77 kB)\n",
      "Building wheels for collected packages: PyPDF2\n",
      "  Building wheel for PyPDF2 (setup.py): started\n",
      "  Building wheel for PyPDF2 (setup.py): finished with status 'done'\n",
      "  Created wheel for PyPDF2: filename=PyPDF2-1.26.0-py3-none-any.whl size=61087 sha256=f861a1eb7dab5e5af5100edf1ef481cffa64a3f06b4a093f177bdf85a55d1464\n",
      "  Stored in directory: c:\\users\\venkataswamyn\\appdata\\local\\pip\\cache\\wheels\\b1\\1a\\8f\\a4c34be976825a2f7948d0fa40907598d69834f8ab5889de11\n",
      "Successfully built PyPDF2\n",
      "Installing collected packages: PyPDF2\n",
      "Successfully installed PyPDF2-1.26.0\n",
      "Note: you may need to restart the kernel to use updated packages.\n"
     ]
    }
   ],
   "source": [
    "pip install PyPDF2"
   ]
  },
  {
   "cell_type": "code",
   "execution_count": null,
   "metadata": {},
   "outputs": [],
   "source": []
  },
  {
   "cell_type": "code",
   "execution_count": null,
   "metadata": {},
   "outputs": [],
   "source": []
  },
  {
   "cell_type": "code",
   "execution_count": 23,
   "metadata": {},
   "outputs": [
    {
     "name": "stdout",
     "output_type": "stream",
     "text": [
      "Collecting poppler-utils\n",
      "  Downloading poppler_utils-0.1.0-py3-none-any.whl (9.2 kB)\n",
      "Requirement already satisfied: Click>=7.0 in c:\\users\\venkataswamyn\\appdata\\local\\programs\\python\\python38\\lib\\site-packages (from poppler-utils) (7.1.2)\n",
      "Installing collected packages: poppler-utils\n",
      "Successfully installed poppler-utils-0.1.0\n",
      "Note: you may need to restart the kernel to use updated packages.\n"
     ]
    }
   ],
   "source": [
    "pip install poppler-utils"
   ]
  },
  {
   "cell_type": "code",
   "execution_count": 9,
   "metadata": {},
   "outputs": [
    {
     "name": "stdout",
     "output_type": "stream",
     "text": [
      "Collecting xpdf_python\n",
      "  Downloading xpdf_python-0.0.10.tar.gz (3.8 kB)\n",
      "Collecting sphinx\n",
      "Note: you may need to restart the kernel to use updated packages.  Downloading Sphinx-3.2.1-py3-none-any.whl (2.9 MB)\n",
      "Collecting sphinx_rtd_theme\n",
      "  Downloading sphinx_rtd_theme-0.5.0-py2.py3-none-any.whl (10.8 MB)\n",
      "\n"
     ]
    },
    {
     "name": "stderr",
     "output_type": "stream",
     "text": [
      "  ERROR: Command errored out with exit status 1:\n",
      "   command: 'c:\\users\\venkataswamyn\\appdata\\local\\programs\\python\\python38\\python.exe' -u -c 'import sys, setuptools, tokenize; sys.argv[0] = '\"'\"'C:\\\\Users\\\\venkataswamyn\\\\AppData\\\\Local\\\\Temp\\\\pip-install-2vn8334z\\\\xpdf-python\\\\setup.py'\"'\"'; __file__='\"'\"'C:\\\\Users\\\\venkataswamyn\\\\AppData\\\\Local\\\\Temp\\\\pip-install-2vn8334z\\\\xpdf-python\\\\setup.py'\"'\"';f=getattr(tokenize, '\"'\"'open'\"'\"', open)(__file__);code=f.read().replace('\"'\"'\\r\\n'\"'\"', '\"'\"'\\n'\"'\"');f.close();exec(compile(code, __file__, '\"'\"'exec'\"'\"'))' bdist_wheel -d 'C:\\Users\\venkataswamyn\\AppData\\Local\\Temp\\pip-wheel-c412y5zv'\n",
      "       cwd: C:\\Users\\venkataswamyn\\AppData\\Local\\Temp\\pip-install-2vn8334z\\xpdf-python\\\n",
      "  Complete output (40 lines):\n",
      "  running bdist_wheel\n",
      "  running build\n",
      "  running build_py\n",
      "  creating build\n",
      "  creating build\\lib\n"
     ]
    },
    {
     "name": "stdout",
     "output_type": "stream",
     "text": [
      "Collecting nose\n",
      "  Downloading nose-1.3.7-py3-none-any.whl (154 kB)\n",
      "Collecting coverage\n",
      "  Downloading coverage-5.3-cp38-cp38-win_amd64.whl (208 kB)\n",
      "Collecting pypi-publisher\n",
      "  Downloading pypi-publisher-0.0.4.tar.gz (6.3 kB)\n",
      "Collecting snowballstemmer>=1.1\n",
      "  Downloading snowballstemmer-2.0.0-py2.py3-none-any.whl (97 kB)\n",
      "Collecting babel>=1.3\n",
      "  Downloading Babel-2.8.0-py2.py3-none-any.whl (8.6 MB)\n",
      "Requirement already satisfied: requests>=2.5.0 in c:\\users\\venkataswamyn\\appdata\\local\\programs\\python\\python38\\lib\\site-packages (from sphinx->xpdf_python) (2.24.0)\n",
      "Requirement already satisfied: Pygments>=2.0 in c:\\users\\venkataswamyn\\appdata\\local\\programs\\python\\python38\\lib\\site-packages (from sphinx->xpdf_python) (2.6.1)\n",
      "Collecting sphinxcontrib-jsmath\n",
      "  Downloading sphinxcontrib_jsmath-1.0.1-py2.py3-none-any.whl (5.1 kB)\n",
      "Requirement already satisfied: setuptools in c:\\users\\venkataswamyn\\appdata\\local\\programs\\python\\python38\\lib\\site-packages (from sphinx->xpdf_python) (50.3.0)\n",
      "Collecting sphinxcontrib-qthelp\n",
      "  Downloading sphinxcontrib_qthelp-1.0.3-py2.py3-none-any.whl (90 kB)\n",
      "Collecting docutils>=0.12\n",
      "  Downloading docutils-0.16-py2.py3-none-any.whl (548 kB)\n",
      "Collecting imagesize\n",
      "  Downloading imagesize-1.2.0-py2.py3-none-any.whl (4.8 kB)\n",
      "Requirement already satisfied: packaging in c:\\users\\venkataswamyn\\appdata\\local\\programs\\python\\python38\\lib\\site-packages (from sphinx->xpdf_python) (20.4)\n",
      "Collecting sphinxcontrib-serializinghtml\n",
      "  Downloading sphinxcontrib_serializinghtml-1.1.4-py2.py3-none-any.whl (89 kB)\n",
      "Collecting sphinxcontrib-htmlhelp\n",
      "  Downloading sphinxcontrib_htmlhelp-1.0.3-py2.py3-none-any.whl (96 kB)\n",
      "Collecting alabaster<0.8,>=0.7\n",
      "  Downloading alabaster-0.7.12-py2.py3-none-any.whl (14 kB)\n",
      "Collecting sphinxcontrib-devhelp\n",
      "  Downloading sphinxcontrib_devhelp-1.0.2-py2.py3-none-any.whl (84 kB)\n",
      "Requirement already satisfied: colorama>=0.3.5; sys_platform == \"win32\" in c:\\users\\venkataswamyn\\appdata\\local\\programs\\python\\python38\\lib\\site-packages (from sphinx->xpdf_python) (0.4.3)\n",
      "Collecting sphinxcontrib-applehelp\n",
      "  Downloading sphinxcontrib_applehelp-1.0.2-py2.py3-none-any.whl (121 kB)\n",
      "Requirement already satisfied: Jinja2>=2.3 in c:\\users\\venkataswamyn\\appdata\\local\\programs\\python\\python38\\lib\\site-packages (from sphinx->xpdf_python) (2.11.2)\n",
      "Collecting gitpython==0.3.6\n",
      "  Downloading GitPython-0.3.6.tar.gz (353 kB)\n",
      "Requirement already satisfied: pytz>=2015.7 in c:\\users\\venkataswamyn\\appdata\\local\\programs\\python\\python38\\lib\\site-packages (from babel>=1.3->sphinx->xpdf_python) (2020.1)\n",
      "Requirement already satisfied: certifi>=2017.4.17 in c:\\users\\venkataswamyn\\appdata\\local\\programs\\python\\python38\\lib\\site-packages (from requests>=2.5.0->sphinx->xpdf_python) (2020.6.20)\n",
      "Requirement already satisfied: chardet<4,>=3.0.2 in c:\\users\\venkataswamyn\\appdata\\local\\programs\\python\\python38\\lib\\site-packages (from requests>=2.5.0->sphinx->xpdf_python) (3.0.4)\n",
      "Requirement already satisfied: urllib3!=1.25.0,!=1.25.1,<1.26,>=1.21.1 in c:\\users\\venkataswamyn\\appdata\\local\\programs\\python\\python38\\lib\\site-packages (from requests>=2.5.0->sphinx->xpdf_python) (1.25.9)\n",
      "Requirement already satisfied: idna<3,>=2.5 in c:\\users\\venkataswamyn\\appdata\\local\\programs\\python\\python38\\lib\\site-packages (from requests>=2.5.0->sphinx->xpdf_python) (2.10)\n",
      "Requirement already satisfied: six in c:\\users\\venkataswamyn\\appdata\\local\\programs\\python\\python38\\lib\\site-packages (from packaging->sphinx->xpdf_python) (1.15.0)\n",
      "Requirement already satisfied: pyparsing>=2.0.2 in c:\\users\\venkataswamyn\\appdata\\local\\programs\\python\\python38\\lib\\site-packages (from packaging->sphinx->xpdf_python) (2.4.7)\n"
     ]
    },
    {
     "name": "stderr",
     "output_type": "stream",
     "text": [
      "  creating build\\lib\\xpdf_python\n",
      "  copying xpdf_python\\check_xpdf.py -> build\\lib\\xpdf_python\n",
      "  copying xpdf_python\\debug.py -> build\\lib\\xpdf_python\n",
      "  copying xpdf_python\\wrapper.py -> build\\lib\\xpdf_python\n",
      "  copying xpdf_python\\__init__.py -> build\\lib\\xpdf_python\n",
      "  running egg_info\n",
      "  writing xpdf_python.egg-info\\PKG-INFO\n",
      "  writing dependency_links to xpdf_python.egg-info\\dependency_links.txt\n",
      "  writing requirements to xpdf_python.egg-info\\requires.txt\n",
      "  writing top-level names to xpdf_python.egg-info\\top_level.txt\n",
      "  reading manifest file 'xpdf_python.egg-info\\SOURCES.txt'\n",
      "  reading manifest template 'MANIFEST.in'\n",
      "  writing manifest file 'xpdf_python.egg-info\\SOURCES.txt'\n",
      "  installing to build\\bdist.win-amd64\\wheel\n",
      "  running install\n",
      "  Traceback (most recent call last):\n",
      "    File \"<string>\", line 1, in <module>\n",
      "    File \"C:\\Users\\venkataswamyn\\AppData\\Local\\Temp\\pip-install-2vn8334z\\xpdf-python\\setup.py\", line 47, in <module>\n",
      "      setup(\n",
      "    File \"c:\\users\\venkataswamyn\\appdata\\local\\programs\\python\\python38\\lib\\site-packages\\setuptools\\__init__.py\", line 153, in setup\n",
      "      return distutils.core.setup(**attrs)\n",
      "    File \"c:\\users\\venkataswamyn\\appdata\\local\\programs\\python\\python38\\lib\\distutils\\core.py\", line 148, in setup\n",
      "      dist.run_commands()\n",
      "    File \"c:\\users\\venkataswamyn\\appdata\\local\\programs\\python\\python38\\lib\\distutils\\dist.py\", line 966, in run_commands\n",
      "      self.run_command(cmd)\n",
      "    File \"c:\\users\\venkataswamyn\\appdata\\local\\programs\\python\\python38\\lib\\distutils\\dist.py\", line 985, in run_command\n",
      "      cmd_obj.run()\n",
      "    File \"c:\\users\\venkataswamyn\\appdata\\local\\programs\\python\\python38\\lib\\site-packages\\wheel\\bdist_wheel.py\", line 275, in run\n",
      "      self.egg2dist(self.egginfo_dir, distinfo_dir)\n",
      "    File \"c:\\users\\venkataswamyn\\appdata\\local\\programs\\python\\python38\\lib\\site-packages\\wheel\\bdist_wheel.py\", line 372, in egg2dist\n",
      "      raise ValueError(err)\n",
      "  ValueError: Egg metadata expected at build\\bdist.win-amd64\\wheel\\.\\xpdf_python-0.0.10-py3.8.egg-info but not found\n",
      "  Did not detect xpdf library. Now attempting to install...\n",
      "  local variable 'bash_instructions' referenced before assignment\n",
      "  Error installing xpdf.  Please follow custom installation instructions at: https://github.com/ecatkins/xpdf_python.\n",
      "  ----------------------------------------\n",
      "  ERROR: Failed building wheel for xpdf-python\n"
     ]
    },
    {
     "name": "stdout",
     "output_type": "stream",
     "text": [
      "Requirement already satisfied: MarkupSafe>=0.23 in c:\\users\\venkataswamyn\\appdata\\local\\programs\\python\\python38\\lib\\site-packages (from Jinja2>=2.3->sphinx->xpdf_python) (1.1.1)\n",
      "Collecting gitdb>=0.6.4\n",
      "  Downloading gitdb-4.0.5-py3-none-any.whl (63 kB)\n",
      "Collecting smmap<4,>=3.0.1\n",
      "  Downloading smmap-3.0.4-py2.py3-none-any.whl (25 kB)\n",
      "Building wheels for collected packages: xpdf-python, pypi-publisher, gitpython\n",
      "  Building wheel for xpdf-python (setup.py): started\n",
      "  Building wheel for xpdf-python (setup.py): finished with status 'error'\n",
      "  Running setup.py clean for xpdf-python\n",
      "  Building wheel for pypi-publisher (setup.py): started\n",
      "  Building wheel for pypi-publisher (setup.py): finished with status 'done'\n",
      "  Created wheel for pypi-publisher: filename=pypi_publisher-0.0.4-py2.py3-none-any.whl size=6642 sha256=f19dd57f6e005ef467714d84b5576c81273e95a90477d2b957d913ed43da3b60\n",
      "  Stored in directory: c:\\users\\venkataswamyn\\appdata\\local\\pip\\cache\\wheels\\4c\\bc\\02\\479b603c28758fd38b37897ffc266db7c7d55600fecb43f901\n",
      "  Building wheel for gitpython (setup.py): started\n",
      "  Building wheel for gitpython (setup.py): finished with status 'done'\n",
      "  Created wheel for gitpython: filename=GitPython-0.3.6-py3-none-any.whl size=388125 sha256=c0040ec983ff7342d850776b14e3d28705d1901b0c7ce1e83f5938efa7f25c34\n",
      "  Stored in directory: c:\\users\\venkataswamyn\\appdata\\local\\pip\\cache\\wheels\\8a\\b9\\b0\\f24bbe137031ad22a26e94b16dbee0b07e393d83ad2b9137ba\n",
      "Successfully built pypi-publisher gitpython\n",
      "Failed to build xpdf-python\n",
      "Installing collected packages: snowballstemmer, babel, sphinxcontrib-jsmath, sphinxcontrib-qthelp, docutils, imagesize, sphinxcontrib-serializinghtml, sphinxcontrib-htmlhelp, alabaster, sphinxcontrib-devhelp, sphinxcontrib-applehelp, sphinx, sphinx-rtd-theme, nose, coverage, smmap, gitdb, gitpython, pypi-publisher, xpdf-python\n",
      "    Running setup.py install for xpdf-python: started\n",
      "    Running setup.py install for xpdf-python: finished with status 'done'\n",
      "Successfully installed alabaster-0.7.12 babel-2.8.0 coverage-5.3 docutils-0.16 gitdb-4.0.5 gitpython-0.3.6 imagesize-1.2.0 nose-1.3.7 pypi-publisher-0.0.4 smmap-3.0.4 snowballstemmer-2.0.0 sphinx-3.2.1 sphinx-rtd-theme-0.5.0 sphinxcontrib-applehelp-1.0.2 sphinxcontrib-devhelp-1.0.2 sphinxcontrib-htmlhelp-1.0.3 sphinxcontrib-jsmath-1.0.1 sphinxcontrib-qthelp-1.0.3 sphinxcontrib-serializinghtml-1.1.4 xpdf-python\n"
     ]
    }
   ],
   "source": [
    "pip install xpdf_python"
   ]
  },
  {
   "cell_type": "code",
   "execution_count": 26,
   "metadata": {},
   "outputs": [
    {
     "name": "stdout",
     "output_type": "stream",
     "text": [
      "Requirement already satisfied: pdftotext in c:\\users\\venkataswamyn\\appdata\\local\\programs\\python\\python38\\lib\\site-packages (2.1.5)\n",
      "Note: you may need to restart the kernel to use updated packages.\n"
     ]
    }
   ],
   "source": [
    "pip install pdftotext"
   ]
  },
  {
   "cell_type": "code",
   "execution_count": 4,
   "metadata": {},
   "outputs": [
    {
     "name": "stdout",
     "output_type": "stream",
     "text": [
      "Requirement already satisfied: pdftotext in c:\\users\\venkataswamyn\\appdata\\local\\programs\\python\\python38\\lib\\site-packages (2.1.5)\n",
      "Note: you may need to restart the kernel to use updated packages.\n"
     ]
    }
   ],
   "source": [
    "pip install pdftotext"
   ]
  },
  {
   "cell_type": "code",
   "execution_count": 12,
   "metadata": {},
   "outputs": [
    {
     "name": "stdout",
     "output_type": "stream",
     "text": [
      "Collecting setuptools\n",
      "  Using cached setuptools-50.3.0-py3-none-any.whl (785 kB)\n",
      "Installing collected packages: setuptools\n",
      "  Attempting uninstall: setuptools\n",
      "    Found existing installation: setuptools 47.1.0\n",
      "    Uninstalling setuptools-47.1.0:\n",
      "      Successfully uninstalled setuptools-47.1.0\n",
      "Successfully installed setuptools-50.3.0\n",
      "Note: you may need to restart the kernel to use updated packages.\n"
     ]
    }
   ],
   "source": [
    "pip install --upgrade setuptools"
   ]
  },
  {
   "cell_type": "code",
   "execution_count": 5,
   "metadata": {},
   "outputs": [
    {
     "name": "stdout",
     "output_type": "stream",
     "text": [
      "Collecting utils\n",
      "  Downloading utils-1.0.1-py2.py3-none-any.whl (21 kB)\n",
      "Installing collected packages: utils\n",
      "Successfully installed utils-1.0.1\n",
      "Note: you may need to restart the kernel to use updated packages.\n"
     ]
    }
   ],
   "source": [
    "pip install utils"
   ]
  },
  {
   "cell_type": "code",
   "execution_count": 15,
   "metadata": {},
   "outputs": [
    {
     "name": "stdout",
     "output_type": "stream",
     "text": [
      "Processing c:\\users\\venkataswamyn\\downloads\\poppler-windows-20.10.0.tar.gz\n",
      "Note: you may need to restart the kernel to use updated packages.\n"
     ]
    },
    {
     "name": "stderr",
     "output_type": "stream",
     "text": [
      "    ERROR: Command errored out with exit status 1:\n",
      "     command: 'c:\\users\\venkataswamyn\\appdata\\local\\programs\\python\\python38\\python.exe' -c 'import sys, setuptools, tokenize; sys.argv[0] = '\"'\"'C:\\\\Users\\\\venkataswamyn\\\\AppData\\\\Local\\\\Temp\\\\pip-req-build-9_pu5a32\\\\setup.py'\"'\"'; __file__='\"'\"'C:\\\\Users\\\\venkataswamyn\\\\AppData\\\\Local\\\\Temp\\\\pip-req-build-9_pu5a32\\\\setup.py'\"'\"';f=getattr(tokenize, '\"'\"'open'\"'\"', open)(__file__);code=f.read().replace('\"'\"'\\r\\n'\"'\"', '\"'\"'\\n'\"'\"');f.close();exec(compile(code, __file__, '\"'\"'exec'\"'\"'))' egg_info --egg-base 'C:\\Users\\venkataswamyn\\AppData\\Local\\Temp\\pip-pip-egg-info-x8lyxvsh'\n",
      "         cwd: C:\\Users\\venkataswamyn\\AppData\\Local\\Temp\\pip-req-build-9_pu5a32\\\n",
      "    Complete output (5 lines):\n",
      "    Traceback (most recent call last):\n",
      "      File \"<string>\", line 1, in <module>\n",
      "      File \"c:\\users\\venkataswamyn\\appdata\\local\\programs\\python\\python38\\lib\\tokenize.py\", line 392, in open\n",
      "        buffer = _builtin_open(filename, 'rb')\n",
      "    FileNotFoundError: [Errno 2] No such file or directory: 'C:\\\\Users\\\\venkataswamyn\\\\AppData\\\\Local\\\\Temp\\\\pip-req-build-9_pu5a32\\\\setup.py'\n",
      "    ----------------------------------------\n",
      "ERROR: Command errored out with exit status 1: python setup.py egg_info Check the logs for full command output.\n"
     ]
    }
   ],
   "source": [
    "pip install C:\\Users\\venkataswamyn\\Downloads\\poppler-windows-20.10.0.tar.gz"
   ]
  },
  {
   "cell_type": "code",
   "execution_count": 9,
   "metadata": {},
   "outputs": [
    {
     "name": "stdout",
     "output_type": "stream",
     "text": [
      "Collecting gevent\n",
      "  Downloading gevent-20.9.0-cp38-cp38-win_amd64.whl (1.5 MB)\n",
      "Collecting greenlet>=0.4.17; platform_python_implementation == \"CPython\"\n",
      "  Downloading greenlet-0.4.17-cp38-cp38-win_amd64.whl (19 kB)\n",
      "Collecting zope.event\n",
      "  Downloading zope.event-4.5.0-py2.py3-none-any.whl (6.8 kB)\n",
      "Requirement already satisfied: setuptools in c:\\users\\venkataswamyn\\appdata\\local\\programs\\python\\python38\\lib\\site-packages (from gevent) (47.1.0)\n",
      "Collecting zope.interface\n",
      "  Downloading zope.interface-5.1.2-cp38-cp38-win_amd64.whl (196 kB)\n",
      "Collecting cffi>=1.12.2; platform_python_implementation == \"CPython\" and sys_platform == \"win32\"\n",
      "  Downloading cffi-1.14.3-cp38-cp38-win_amd64.whl (179 kB)\n",
      "Collecting pycparser\n",
      "  Downloading pycparser-2.20-py2.py3-none-any.whl (112 kB)\n",
      "Installing collected packages: greenlet, zope.event, zope.interface, pycparser, cffi, gevent\n",
      "Successfully installed cffi-1.14.3 gevent-20.9.0 greenlet-0.4.17 pycparser-2.20 zope.event-4.5.0 zope.interface-5.1.2\n",
      "Note: you may need to restart the kernel to use updated packages.\n"
     ]
    }
   ],
   "source": [
    "pip install gevent --pre"
   ]
  },
  {
   "cell_type": "code",
   "execution_count": 10,
   "metadata": {},
   "outputs": [
    {
     "name": "stdout",
     "output_type": "stream",
     "text": [
      "Collecting auto-py-to-exe\n",
      "  Downloading auto_py_to_exe-2.7.8-py2.py3-none-any.whl (75 kB)\n",
      "Collecting Eel==0.12.4\n",
      "  Downloading Eel-0.12.4.tar.gz (15 kB)\n",
      "Collecting pyinstaller>=3.4\n",
      "  Downloading pyinstaller-4.0.tar.gz (3.5 MB)\n",
      "  Installing build dependencies: started\n",
      "  Installing build dependencies: finished with status 'done'\n",
      "  Getting requirements to build wheel: started\n",
      "  Getting requirements to build wheel: finished with status 'done'\n",
      "    Preparing wheel metadata: started\n",
      "    Preparing wheel metadata: finished with status 'done'\n",
      "Collecting bottle\n",
      "  Downloading bottle-0.12.18-py3-none-any.whl (89 kB)\n",
      "Collecting bottle-websocket\n",
      "  Downloading bottle-websocket-0.2.9.tar.gz (2.0 kB)\n",
      "Collecting future\n",
      "  Downloading future-0.18.2.tar.gz (829 kB)\n",
      "Collecting whichcraft\n",
      "  Downloading whichcraft-0.6.1-py2.py3-none-any.whl (5.2 kB)\n",
      "Collecting pefile>=2017.8.1; sys_platform == \"win32\"\n",
      "  Downloading pefile-2019.4.18.tar.gz (62 kB)\n",
      "Requirement already satisfied: setuptools in c:\\users\\venkataswamyn\\appdata\\local\\programs\\python\\python38\\lib\\site-packages (from pyinstaller>=3.4->auto-py-to-exe) (47.1.0)\n",
      "Collecting pyinstaller-hooks-contrib>=2020.6\n",
      "  Downloading pyinstaller_hooks_contrib-2020.9-py2.py3-none-any.whl (163 kB)\n",
      "Collecting pywin32-ctypes>=0.2.0; sys_platform == \"win32\"\n",
      "  Downloading pywin32_ctypes-0.2.0-py2.py3-none-any.whl (28 kB)\n",
      "Collecting altgraph\n",
      "  Downloading altgraph-0.17-py2.py3-none-any.whl (21 kB)\n",
      "Collecting gevent-websocket\n",
      "  Downloading gevent_websocket-0.10.1-py3-none-any.whl (22 kB)\n",
      "Requirement already satisfied: gevent in c:\\users\\venkataswamyn\\appdata\\local\\programs\\python\\python38\\lib\\site-packages (from gevent-websocket->bottle-websocket->Eel==0.12.4->auto-py-to-exe) (20.9.0)\n",
      "Requirement already satisfied: zope.event in c:\\users\\venkataswamyn\\appdata\\local\\programs\\python\\python38\\lib\\site-packages (from gevent->gevent-websocket->bottle-websocket->Eel==0.12.4->auto-py-to-exe) (4.5.0)\n",
      "Requirement already satisfied: greenlet>=0.4.17; platform_python_implementation == \"CPython\" in c:\\users\\venkataswamyn\\appdata\\local\\programs\\python\\python38\\lib\\site-packages (from gevent->gevent-websocket->bottle-websocket->Eel==0.12.4->auto-py-to-exe) (0.4.17)\n",
      "Requirement already satisfied: zope.interface in c:\\users\\venkataswamyn\\appdata\\local\\programs\\python\\python38\\lib\\site-packages (from gevent->gevent-websocket->bottle-websocket->Eel==0.12.4->auto-py-to-exe) (5.1.2)\n",
      "Requirement already satisfied: cffi>=1.12.2; platform_python_implementation == \"CPython\" and sys_platform == \"win32\" in c:\\users\\venkataswamyn\\appdata\\local\\programs\\python\\python38\\lib\\site-packages (from gevent->gevent-websocket->bottle-websocket->Eel==0.12.4->auto-py-to-exe) (1.14.3)\n",
      "Requirement already satisfied: pycparser in c:\\users\\venkataswamyn\\appdata\\local\\programs\\python\\python38\\lib\\site-packages (from cffi>=1.12.2; platform_python_implementation == \"CPython\" and sys_platform == \"win32\"->gevent->gevent-websocket->bottle-websocket->Eel==0.12.4->auto-py-to-exe) (2.20)\n",
      "Building wheels for collected packages: Eel, pyinstaller, bottle-websocket, future, pefile\n",
      "  Building wheel for Eel (setup.py): started\n",
      "  Building wheel for Eel (setup.py): finished with status 'done'\n",
      "  Created wheel for Eel: filename=Eel-0.12.4-py3-none-any.whl size=16234 sha256=a32bafb389d37f8206c7bf9d3e4641cb94561544c86c94ddfd2ea0a72ba2f088\n",
      "  Stored in directory: c:\\users\\venkataswamyn\\appdata\\local\\pip\\cache\\wheels\\9d\\ca\\af\\6610598aa208b55dc7939fd98f9585d65b9376cfbe5d6eb0ab\n",
      "  Building wheel for pyinstaller (PEP 517): started\n",
      "  Building wheel for pyinstaller (PEP 517): finished with status 'done'\n",
      "  Created wheel for pyinstaller: filename=pyinstaller-4.0-py3-none-any.whl size=2789243 sha256=5a1f13f685ca92233d85ba05c9a512d221976420b4e3eb56f515341265e78f8f\n",
      "  Stored in directory: c:\\users\\venkataswamyn\\appdata\\local\\pip\\cache\\wheels\\9b\\28\\8f\\f51ae22c4391bbeb36c8fdc68203b0c094445b4db824a6ab7d\n",
      "  Building wheel for bottle-websocket (setup.py): started\n",
      "  Building wheel for bottle-websocket (setup.py): finished with status 'done'\n",
      "  Created wheel for bottle-websocket: filename=bottle_websocket-0.2.9-py3-none-any.whl size=2354 sha256=810e979923b37eb8bbb848b196d5c3add42ba2dce9e44fc9888379835fbc2db2\n",
      "  Stored in directory: c:\\users\\venkataswamyn\\appdata\\local\\pip\\cache\\wheels\\ab\\bd\\a8\\c939961e0cf3a5515ea922ef6b47e33c1c7237f0ac39443ed5\n",
      "  Building wheel for future (setup.py): started\n",
      "Note: you may need to restart the kernel to use updated packages.  Building wheel for future (setup.py): finished with status 'done'\n",
      "  Created wheel for future: filename=future-0.18.2-py3-none-any.whl size=491062 sha256=73c3ff618c48fb4ab4a5bd0a54ff359bd0244ffdc193981187a64bd47feb490e\n",
      "  Stored in directory: c:\\users\\venkataswamyn\\appdata\\local\\pip\\cache\\wheels\\8e\\70\\28\\3d6ccd6e315f65f245da085482a2e1c7d14b90b30f239e2cf4\n",
      "  Building wheel for pefile (setup.py): started\n",
      "  Building wheel for pefile (setup.py): finished with status 'done'\n",
      "  Created wheel for pefile: filename=pefile-2019.4.18-py3-none-any.whl size=60827 sha256=05f581d351a28e0c48c687a18f395c313614b51fcd970d524fe27cd1f04a3400\n",
      "  Stored in directory: c:\\users\\venkataswamyn\\appdata\\local\\pip\\cache\\wheels\\42\\52\\d5\\9550bbfb9eeceaf0f19db1cf651cc8ba41d3bcf8b4d20e4279\n",
      "Successfully built Eel pyinstaller bottle-websocket future pefile\n",
      "Installing collected packages: bottle, gevent-websocket, bottle-websocket, future, whichcraft, Eel, pefile, pyinstaller-hooks-contrib, pywin32-ctypes, altgraph, pyinstaller, auto-py-to-exe\n",
      "Successfully installed Eel-0.12.4 altgraph-0.17 auto-py-to-exe-2.7.8 bottle-0.12.18 bottle-websocket-0.2.9 future-0.18.2 gevent-websocket-0.10.1 pefile-2019.4.18 pyinstaller-4.0 pyinstaller-hooks-contrib-2020.9 pywin32-ctypes-0.2.0 whichcraft-0.6.1\n",
      "\n"
     ]
    }
   ],
   "source": [
    "pip install auto-py-to-exe"
   ]
  }
 ],
 "metadata": {
  "kernelspec": {
   "display_name": "Python 3",
   "language": "python",
   "name": "python3"
  },
  "language_info": {
   "codemirror_mode": {
    "name": "ipython",
    "version": 3
   },
   "file_extension": ".py",
   "mimetype": "text/x-python",
   "name": "python",
   "nbconvert_exporter": "python",
   "pygments_lexer": "ipython3",
   "version": "3.8.4"
  }
 },
 "nbformat": 4,
 "nbformat_minor": 4
}
