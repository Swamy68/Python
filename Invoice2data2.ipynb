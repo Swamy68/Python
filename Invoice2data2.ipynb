{
 "cells": [
  {
   "cell_type": "code",
   "execution_count": 1,
   "metadata": {},
   "outputs": [
    {
     "name": "stdout",
     "output_type": "stream",
     "text": [
      "Collecting tabula-py\n",
      "  Downloading tabula_py-2.2.0-py3-none-any.whl (11.7 MB)\n",
      "Collecting distro\n",
      "  Downloading distro-1.5.0-py2.py3-none-any.whl (18 kB)\n",
      "Requirement already satisfied: pandas>=0.25.3 in c:\\users\\venkataswamyn\\appdata\\local\\programs\\python\\python38\\lib\\site-packages (from tabula-py) (1.0.5)\n",
      "Requirement already satisfied: numpy in c:\\users\\venkataswamyn\\appdata\\local\\programs\\python\\python38\\lib\\site-packages (from tabula-py) (1.19.0)\n",
      "Requirement already satisfied: python-dateutil>=2.6.1 in c:\\users\\venkataswamyn\\appdata\\local\\programs\\python\\python38\\lib\\site-packages (from pandas>=0.25.3->tabula-py) (2.8.1)\n",
      "Requirement already satisfied: pytz>=2017.2 in c:\\users\\venkataswamyn\\appdata\\local\\programs\\python\\python38\\lib\\site-packages (from pandas>=0.25.3->tabula-py) (2020.1)\n",
      "Requirement already satisfied: six>=1.5 in c:\\users\\venkataswamyn\\appdata\\local\\programs\\python\\python38\\lib\\site-packages (from python-dateutil>=2.6.1->pandas>=0.25.3->tabula-py) (1.15.0)\n",
      "Installing collected packages: distro, tabula-py\n",
      "Successfully installed distro-1.5.0 tabula-py-2.2.0\n",
      "Note: you may need to restart the kernel to use updated packages.\n"
     ]
    }
   ],
   "source": [
    "pip install tabula-py"
   ]
  },
  {
   "cell_type": "code",
   "execution_count": null,
   "metadata": {},
   "outputs": [],
   "source": []
  },
  {
   "cell_type": "code",
   "execution_count": 2,
   "metadata": {},
   "outputs": [],
   "source": [
    "import tabula"
   ]
  },
  {
   "cell_type": "code",
   "execution_count": 136,
   "metadata": {},
   "outputs": [],
   "source": [
    "df1 = tabula.read_pdf(\"E:\\Invoice_Ask Media.pdf\", pages = 1)"
   ]
  },
  {
   "cell_type": "code",
   "execution_count": 138,
   "metadata": {},
   "outputs": [],
   "source": [
    "data = df1[1][5:]"
   ]
  },
  {
   "cell_type": "code",
   "execution_count": 139,
   "metadata": {},
   "outputs": [
    {
     "data": {
      "text/html": [
       "<div>\n",
       "<style scoped>\n",
       "    .dataframe tbody tr th:only-of-type {\n",
       "        vertical-align: middle;\n",
       "    }\n",
       "\n",
       "    .dataframe tbody tr th {\n",
       "        vertical-align: top;\n",
       "    }\n",
       "\n",
       "    .dataframe thead th {\n",
       "        text-align: right;\n",
       "    }\n",
       "</style>\n",
       "<table border=\"1\" class=\"dataframe\">\n",
       "  <thead>\n",
       "    <tr style=\"text-align: right;\">\n",
       "      <th></th>\n",
       "      <th>Unnamed: 0</th>\n",
       "      <th>Bill To:</th>\n",
       "      <th>Ship To:</th>\n",
       "    </tr>\n",
       "  </thead>\n",
       "  <tbody>\n",
       "    <tr>\n",
       "      <th>5</th>\n",
       "      <td>Reference:</td>\n",
       "      <td>AO dated 6-Dec-19 &amp; AO dated 04-May-20</td>\n",
       "      <td>NaN</td>\n",
       "    </tr>\n",
       "  </tbody>\n",
       "</table>\n",
       "</div>"
      ],
      "text/plain": [
       "   Unnamed: 0                                Bill To:  Ship To:\n",
       "5  Reference:  AO dated 6-Dec-19 & AO dated 04-May-20       NaN"
      ]
     },
     "execution_count": 139,
     "metadata": {},
     "output_type": "execute_result"
    }
   ],
   "source": [
    "data"
   ]
  },
  {
   "cell_type": "code",
   "execution_count": null,
   "metadata": {},
   "outputs": [],
   "source": []
  },
  {
   "cell_type": "code",
   "execution_count": 91,
   "metadata": {},
   "outputs": [
    {
     "data": {
      "text/plain": [
       "list"
      ]
     },
     "execution_count": 91,
     "metadata": {},
     "output_type": "execute_result"
    }
   ],
   "source": [
    "type(df)"
   ]
  },
  {
   "cell_type": "code",
   "execution_count": 12,
   "metadata": {},
   "outputs": [],
   "source": [
    "tabula.convert_into(\"E:\\Invoice_Ask Media.pdf\", \"E:\\Invoice_Ask Media.csv\", output_format=\"csv\", pages='all')"
   ]
  },
  {
   "cell_type": "code",
   "execution_count": 128,
   "metadata": {},
   "outputs": [
    {
     "data": {
      "text/html": [
       "<div>\n",
       "<style scoped>\n",
       "    .dataframe tbody tr th:only-of-type {\n",
       "        vertical-align: middle;\n",
       "    }\n",
       "\n",
       "    .dataframe tbody tr th {\n",
       "        vertical-align: top;\n",
       "    }\n",
       "\n",
       "    .dataframe thead th {\n",
       "        text-align: right;\n",
       "    }\n",
       "</style>\n",
       "<table border=\"1\" class=\"dataframe\">\n",
       "  <thead>\n",
       "    <tr style=\"text-align: right;\">\n",
       "      <th></th>\n",
       "      <th>Unnamed: 0</th>\n",
       "      <th>Bill To:</th>\n",
       "      <th>Ship To:</th>\n",
       "    </tr>\n",
       "  </thead>\n",
       "  <tbody>\n",
       "    <tr>\n",
       "      <th>5</th>\n",
       "      <td>Reference:</td>\n",
       "      <td>AO dated 6-Dec-19 &amp; AO dated 04-May-20</td>\n",
       "      <td>NaN</td>\n",
       "    </tr>\n",
       "  </tbody>\n",
       "</table>\n",
       "</div>"
      ],
      "text/plain": [
       "   Unnamed: 0                                Bill To:  Ship To:\n",
       "5  Reference:  AO dated 6-Dec-19 & AO dated 04-May-20       NaN"
      ]
     },
     "execution_count": 128,
     "metadata": {},
     "output_type": "execute_result"
    }
   ],
   "source": [
    "df1[1][5:]"
   ]
  },
  {
   "cell_type": "code",
   "execution_count": 153,
   "metadata": {
    "scrolled": true
   },
   "outputs": [
    {
     "name": "stderr",
     "output_type": "stream",
     "text": [
      "c:\\users\\venkataswamyn\\appdata\\local\\programs\\python\\python38\\lib\\site-packages\\pandas\\core\\internals\\construction.py:276: VisibleDeprecationWarning: Creating an ndarray from ragged nested sequences (which is a list-or-tuple of lists-or-tuples-or ndarrays with different lengths or shapes) is deprecated. If you meant to do this, you must specify 'dtype=object' when creating the ndarray\n",
      "  values = np.array([convert(v) for v in values])\n"
     ]
    }
   ],
   "source": [
    "df = pd.DataFrame(df)"
   ]
  },
  {
   "cell_type": "code",
   "execution_count": 155,
   "metadata": {},
   "outputs": [
    {
     "data": {
      "text/html": [
       "<div>\n",
       "<style scoped>\n",
       "    .dataframe tbody tr th:only-of-type {\n",
       "        vertical-align: middle;\n",
       "    }\n",
       "\n",
       "    .dataframe tbody tr th {\n",
       "        vertical-align: top;\n",
       "    }\n",
       "\n",
       "    .dataframe thead th {\n",
       "        text-align: right;\n",
       "    }\n",
       "</style>\n",
       "<table border=\"1\" class=\"dataframe\">\n",
       "  <thead>\n",
       "    <tr style=\"text-align: right;\">\n",
       "      <th></th>\n",
       "      <th>0</th>\n",
       "    </tr>\n",
       "  </thead>\n",
       "  <tbody>\n",
       "    <tr>\n",
       "      <th>1</th>\n",
       "      <td>Unnamed: 0                               Bi...</td>\n",
       "    </tr>\n",
       "  </tbody>\n",
       "</table>\n",
       "</div>"
      ],
      "text/plain": [
       "                                                   0\n",
       "1     Unnamed: 0                               Bi..."
      ]
     },
     "execution_count": 155,
     "metadata": {},
     "output_type": "execute_result"
    }
   ],
   "source": [
    "df[1:2]"
   ]
  },
  {
   "cell_type": "code",
   "execution_count": 23,
   "metadata": {},
   "outputs": [],
   "source": [
    "import pandas as pd\n",
    "import numpy as np"
   ]
  },
  {
   "cell_type": "code",
   "execution_count": 124,
   "metadata": {},
   "outputs": [],
   "source": [
    "data = pd.DataFrame(columns = ['Month', 'Path', 'Reference'])"
   ]
  },
  {
   "cell_type": "code",
   "execution_count": 147,
   "metadata": {},
   "outputs": [
    {
     "data": {
      "text/html": [
       "<div>\n",
       "<style scoped>\n",
       "    .dataframe tbody tr th:only-of-type {\n",
       "        vertical-align: middle;\n",
       "    }\n",
       "\n",
       "    .dataframe tbody tr th {\n",
       "        vertical-align: top;\n",
       "    }\n",
       "\n",
       "    .dataframe thead th {\n",
       "        text-align: right;\n",
       "    }\n",
       "</style>\n",
       "<table border=\"1\" class=\"dataframe\">\n",
       "  <thead>\n",
       "    <tr style=\"text-align: right;\">\n",
       "      <th></th>\n",
       "      <th>Unnamed: 0</th>\n",
       "      <th>Bill To:</th>\n",
       "      <th>Ship To:</th>\n",
       "      <th>Month</th>\n",
       "      <th>Path</th>\n",
       "      <th>Reference</th>\n",
       "      <th>4</th>\n",
       "    </tr>\n",
       "  </thead>\n",
       "  <tbody>\n",
       "    <tr>\n",
       "      <th>5</th>\n",
       "      <td>Reference:</td>\n",
       "      <td>AO dated 6-Dec-19 &amp; AO dated 04-May-20</td>\n",
       "      <td>NaN</td>\n",
       "      <td>4.April</td>\n",
       "      <td>E:\\Invoices\\4.April\\IMAGINEA\\Invoice_AJG-Imagi...</td>\n",
       "      <td>NaN</td>\n",
       "      <td>NaN</td>\n",
       "    </tr>\n",
       "    <tr>\n",
       "      <th>0</th>\n",
       "      <td>NaN</td>\n",
       "      <td>NaN</td>\n",
       "      <td>NaN</td>\n",
       "      <td>4.April</td>\n",
       "      <td>E:\\Invoices\\4.April\\IMAGINEA\\Ericsson - April_...</td>\n",
       "      <td>NaN</td>\n",
       "      <td>NaN</td>\n",
       "    </tr>\n",
       "    <tr>\n",
       "      <th>1</th>\n",
       "      <td>NaN</td>\n",
       "      <td>NaN</td>\n",
       "      <td>NaN</td>\n",
       "      <td>4.April</td>\n",
       "      <td>E:\\Invoices\\4.April\\IMAGINEA\\Ericsson - April_...</td>\n",
       "      <td>NaN</td>\n",
       "      <td>NaN</td>\n",
       "    </tr>\n",
       "    <tr>\n",
       "      <th>2</th>\n",
       "      <td>NaN</td>\n",
       "      <td>NaN</td>\n",
       "      <td>NaN</td>\n",
       "      <td>4.April</td>\n",
       "      <td>E:\\Invoices\\4.April\\IMAGINEA\\Ericsson - April_...</td>\n",
       "      <td>NaN</td>\n",
       "      <td>NaN</td>\n",
       "    </tr>\n",
       "    <tr>\n",
       "      <th>3</th>\n",
       "      <td>NaN</td>\n",
       "      <td>NaN</td>\n",
       "      <td>NaN</td>\n",
       "      <td>4.April</td>\n",
       "      <td>E:\\Invoices\\4.April\\IMAGINEA\\Ericsson - April_...</td>\n",
       "      <td>NaN</td>\n",
       "      <td>NaN</td>\n",
       "    </tr>\n",
       "    <tr>\n",
       "      <th>...</th>\n",
       "      <td>...</td>\n",
       "      <td>...</td>\n",
       "      <td>...</td>\n",
       "      <td>...</td>\n",
       "      <td>...</td>\n",
       "      <td>...</td>\n",
       "      <td>...</td>\n",
       "    </tr>\n",
       "    <tr>\n",
       "      <th>176</th>\n",
       "      <td>NaN</td>\n",
       "      <td>NaN</td>\n",
       "      <td>NaN</td>\n",
       "      <td>8.August</td>\n",
       "      <td>E:\\Invoices\\8.August\\IMAGINEA\\Invoice_ThroughP...</td>\n",
       "      <td>NaN</td>\n",
       "      <td>NaN</td>\n",
       "    </tr>\n",
       "    <tr>\n",
       "      <th>177</th>\n",
       "      <td>NaN</td>\n",
       "      <td>NaN</td>\n",
       "      <td>NaN</td>\n",
       "      <td>8.August</td>\n",
       "      <td>E:\\Invoices\\8.August\\IMAGINEA\\Invoice_Turvo_Au...</td>\n",
       "      <td>NaN</td>\n",
       "      <td>NaN</td>\n",
       "    </tr>\n",
       "    <tr>\n",
       "      <th>178</th>\n",
       "      <td>NaN</td>\n",
       "      <td>NaN</td>\n",
       "      <td>NaN</td>\n",
       "      <td>8.August</td>\n",
       "      <td>E:\\Invoices\\8.August\\IMAGINEA\\Invoice_Valet Li...</td>\n",
       "      <td>NaN</td>\n",
       "      <td>NaN</td>\n",
       "    </tr>\n",
       "    <tr>\n",
       "      <th>179</th>\n",
       "      <td>NaN</td>\n",
       "      <td>NaN</td>\n",
       "      <td>NaN</td>\n",
       "      <td>8.August</td>\n",
       "      <td>E:\\Invoices\\8.August\\IMAGINEA\\Invoice_Verana H...</td>\n",
       "      <td>NaN</td>\n",
       "      <td>NaN</td>\n",
       "    </tr>\n",
       "    <tr>\n",
       "      <th>180</th>\n",
       "      <td>NaN</td>\n",
       "      <td>NaN</td>\n",
       "      <td>NaN</td>\n",
       "      <td>8.August</td>\n",
       "      <td>E:\\Invoices\\8.August\\IMAGINEA\\Invoice_Western ...</td>\n",
       "      <td>NaN</td>\n",
       "      <td>NaN</td>\n",
       "    </tr>\n",
       "  </tbody>\n",
       "</table>\n",
       "<p>181 rows × 7 columns</p>\n",
       "</div>"
      ],
      "text/plain": [
       "     Unnamed: 0                                Bill To:  Ship To:     Month  \\\n",
       "5    Reference:  AO dated 6-Dec-19 & AO dated 04-May-20       NaN   4.April   \n",
       "0           NaN                                     NaN       NaN   4.April   \n",
       "1           NaN                                     NaN       NaN   4.April   \n",
       "2           NaN                                     NaN       NaN   4.April   \n",
       "3           NaN                                     NaN       NaN   4.April   \n",
       "..          ...                                     ...       ...       ...   \n",
       "176         NaN                                     NaN       NaN  8.August   \n",
       "177         NaN                                     NaN       NaN  8.August   \n",
       "178         NaN                                     NaN       NaN  8.August   \n",
       "179         NaN                                     NaN       NaN  8.August   \n",
       "180         NaN                                     NaN       NaN  8.August   \n",
       "\n",
       "                                                  Path  Reference   4  \n",
       "5    E:\\Invoices\\4.April\\IMAGINEA\\Invoice_AJG-Imagi...        NaN NaN  \n",
       "0    E:\\Invoices\\4.April\\IMAGINEA\\Ericsson - April_...        NaN NaN  \n",
       "1    E:\\Invoices\\4.April\\IMAGINEA\\Ericsson - April_...        NaN NaN  \n",
       "2    E:\\Invoices\\4.April\\IMAGINEA\\Ericsson - April_...        NaN NaN  \n",
       "3    E:\\Invoices\\4.April\\IMAGINEA\\Ericsson - April_...        NaN NaN  \n",
       "..                                                 ...        ...  ..  \n",
       "176  E:\\Invoices\\8.August\\IMAGINEA\\Invoice_ThroughP...        NaN NaN  \n",
       "177  E:\\Invoices\\8.August\\IMAGINEA\\Invoice_Turvo_Au...        NaN NaN  \n",
       "178  E:\\Invoices\\8.August\\IMAGINEA\\Invoice_Valet Li...        NaN NaN  \n",
       "179  E:\\Invoices\\8.August\\IMAGINEA\\Invoice_Verana H...        NaN NaN  \n",
       "180  E:\\Invoices\\8.August\\IMAGINEA\\Invoice_Western ...        NaN NaN  \n",
       "\n",
       "[181 rows x 7 columns]"
      ]
     },
     "execution_count": 147,
     "metadata": {},
     "output_type": "execute_result"
    }
   ],
   "source": [
    "data"
   ]
  },
  {
   "cell_type": "code",
   "execution_count": 24,
   "metadata": {},
   "outputs": [],
   "source": [
    "import os"
   ]
  },
  {
   "cell_type": "code",
   "execution_count": 127,
   "metadata": {},
   "outputs": [
    {
     "data": {
      "text/html": [
       "<div>\n",
       "<style scoped>\n",
       "    .dataframe tbody tr th:only-of-type {\n",
       "        vertical-align: middle;\n",
       "    }\n",
       "\n",
       "    .dataframe tbody tr th {\n",
       "        vertical-align: top;\n",
       "    }\n",
       "\n",
       "    .dataframe thead th {\n",
       "        text-align: right;\n",
       "    }\n",
       "</style>\n",
       "<table border=\"1\" class=\"dataframe\">\n",
       "  <thead>\n",
       "    <tr style=\"text-align: right;\">\n",
       "      <th></th>\n",
       "      <th>Month</th>\n",
       "      <th>Path</th>\n",
       "      <th>Reference</th>\n",
       "    </tr>\n",
       "  </thead>\n",
       "  <tbody>\n",
       "    <tr>\n",
       "      <th>1</th>\n",
       "      <td>2</td>\n",
       "      <td>NaN</td>\n",
       "      <td>NaN</td>\n",
       "    </tr>\n",
       "  </tbody>\n",
       "</table>\n",
       "</div>"
      ],
      "text/plain": [
       "  Month Path Reference\n",
       "1     2  NaN       NaN"
      ]
     },
     "execution_count": 127,
     "metadata": {},
     "output_type": "execute_result"
    }
   ],
   "source": [
    "data.loc[0:]"
   ]
  },
  {
   "cell_type": "code",
   "execution_count": null,
   "metadata": {},
   "outputs": [],
   "source": [
    "0"
   ]
  },
  {
   "cell_type": "code",
   "execution_count": null,
   "metadata": {},
   "outputs": [],
   "source": []
  },
  {
   "cell_type": "code",
   "execution_count": 75,
   "metadata": {},
   "outputs": [
    {
     "name": "stdout",
     "output_type": "stream",
     "text": [
      "E:\\Invoices\n"
     ]
    }
   ],
   "source": [
    "path  = \"E:\\Invoices\"\n",
    "month = os.listdir(path)\n",
    "print(path)"
   ]
  },
  {
   "cell_type": "code",
   "execution_count": 157,
   "metadata": {},
   "outputs": [
    {
     "name": "stdout",
     "output_type": "stream",
     "text": [
      "E:\\Invoices\\4.April\n",
      "E:\\Invoices\\4.April\\IMAGINEA\n",
      "E:\\Invoices\\4.April\\IMAGINEA\\Ericsson - April_20 - 3505072880.pdf\n"
     ]
    },
    {
     "name": "stderr",
     "output_type": "stream",
     "text": [
      "c:\\users\\venkataswamyn\\appdata\\local\\programs\\python\\python38\\lib\\site-packages\\pandas\\core\\internals\\construction.py:276: VisibleDeprecationWarning: Creating an ndarray from ragged nested sequences (which is a list-or-tuple of lists-or-tuples-or ndarrays with different lengths or shapes) is deprecated. If you meant to do this, you must specify 'dtype=object' when creating the ndarray\n",
      "  values = np.array([convert(v) for v in values])\n"
     ]
    },
    {
     "name": "stdout",
     "output_type": "stream",
     "text": [
      "                                                   0\n",
      "0  Empty DataFrame\n",
      "Columns: [Invoice No., USII202...\n",
      "1     Unnamed: 0                 Bill To:\\rEricss...\n",
      "2     Unnamed: 0                                 ...\n",
      "3     Unnamed: 0                                 ...\n",
      "E:\\Invoices\\4.April\\IMAGINEA\\Ericsson - April_20 - 3505074893.pdf\n"
     ]
    },
    {
     "name": "stderr",
     "output_type": "stream",
     "text": [
      "c:\\users\\venkataswamyn\\appdata\\local\\programs\\python\\python38\\lib\\site-packages\\pandas\\core\\internals\\construction.py:276: VisibleDeprecationWarning: Creating an ndarray from ragged nested sequences (which is a list-or-tuple of lists-or-tuples-or ndarrays with different lengths or shapes) is deprecated. If you meant to do this, you must specify 'dtype=object' when creating the ndarray\n",
      "  values = np.array([convert(v) for v in values])\n"
     ]
    },
    {
     "name": "stdout",
     "output_type": "stream",
     "text": [
      "                                                   0\n",
      "0  Empty DataFrame\n",
      "Columns: [Invoice No., USII202...\n",
      "1     Unnamed: 0                  Bill To:\\rErics...\n",
      "2     Unnamed: 0                                 ...\n",
      "3     Unnamed: 0                                 ...\n",
      "E:\\Invoices\\4.April\\IMAGINEA\\Ericsson - April_20 - 3505074895.pdf\n"
     ]
    },
    {
     "name": "stderr",
     "output_type": "stream",
     "text": [
      "c:\\users\\venkataswamyn\\appdata\\local\\programs\\python\\python38\\lib\\site-packages\\pandas\\core\\internals\\construction.py:276: VisibleDeprecationWarning: Creating an ndarray from ragged nested sequences (which is a list-or-tuple of lists-or-tuples-or ndarrays with different lengths or shapes) is deprecated. If you meant to do this, you must specify 'dtype=object' when creating the ndarray\n",
      "  values = np.array([convert(v) for v in values])\n"
     ]
    },
    {
     "name": "stdout",
     "output_type": "stream",
     "text": [
      "                                                   0\n",
      "0  Empty DataFrame\n",
      "Columns: [Invoice No., USII202...\n",
      "1     Unnamed: 0                  Bill To:\\rErics...\n",
      "2     Unnamed: 0                                 ...\n",
      "3     Unnamed: 0                                 ...\n",
      "E:\\Invoices\\4.April\\IMAGINEA\\Ericsson - April_20 - 3505074897.pdf\n"
     ]
    },
    {
     "name": "stderr",
     "output_type": "stream",
     "text": [
      "c:\\users\\venkataswamyn\\appdata\\local\\programs\\python\\python38\\lib\\site-packages\\pandas\\core\\internals\\construction.py:276: VisibleDeprecationWarning: Creating an ndarray from ragged nested sequences (which is a list-or-tuple of lists-or-tuples-or ndarrays with different lengths or shapes) is deprecated. If you meant to do this, you must specify 'dtype=object' when creating the ndarray\n",
      "  values = np.array([convert(v) for v in values])\n"
     ]
    },
    {
     "name": "stdout",
     "output_type": "stream",
     "text": [
      "                                                   0\n",
      "0  Empty DataFrame\n",
      "Columns: [Invoice No., USII202...\n",
      "1     Unnamed: 0                   Bill To:\\rEric...\n",
      "2     Unnamed: 0                                 ...\n",
      "3     Unnamed: 0                                 ...\n",
      "E:\\Invoices\\4.April\\IMAGINEA\\Invoice_AJG-Imaginea April_20 -SO-199-GBS-PowerBI-Onsite-PBM SQL Upgrade and Migration Work.pdf\n"
     ]
    },
    {
     "name": "stderr",
     "output_type": "stream",
     "text": [
      "c:\\users\\venkataswamyn\\appdata\\local\\programs\\python\\python38\\lib\\site-packages\\pandas\\core\\internals\\construction.py:276: VisibleDeprecationWarning: Creating an ndarray from ragged nested sequences (which is a list-or-tuple of lists-or-tuples-or ndarrays with different lengths or shapes) is deprecated. If you meant to do this, you must specify 'dtype=object' when creating the ndarray\n",
      "  values = np.array([convert(v) for v in values])\n"
     ]
    },
    {
     "name": "stdout",
     "output_type": "stream",
     "text": [
      "                                                   0\n",
      "0  Empty DataFrame\n",
      "Columns: [Invoice No., US/II/2...\n",
      "1     Unnamed: 0                 Bill To:\\rArthur...\n",
      "2                                   Sr.No.\n",
      "0  Sr.No.\n",
      "3     Sr.No.                                     ...\n",
      "4                         Description\n",
      "0  Description\n",
      "5                     Amount in USD\n",
      "0  Amount in USD\n",
      "6         Unnamed: 0                             ...\n",
      "7                                    Check:\n",
      "0  heck:\n",
      "8                    Wire Transfer:\n",
      "0  ire Transfer:\n",
      "9  Empty DataFrame\n",
      "Columns: [Deliverables, eliver...\n",
      "E:\\Invoices\\4.April\\IMAGINEA\\Invoice_AJG-Imaginea April_20 -SO-225-Corp-DBA-Onsite.pdf\n"
     ]
    },
    {
     "name": "stderr",
     "output_type": "stream",
     "text": [
      "c:\\users\\venkataswamyn\\appdata\\local\\programs\\python\\python38\\lib\\site-packages\\pandas\\core\\internals\\construction.py:276: VisibleDeprecationWarning: Creating an ndarray from ragged nested sequences (which is a list-or-tuple of lists-or-tuples-or ndarrays with different lengths or shapes) is deprecated. If you meant to do this, you must specify 'dtype=object' when creating the ndarray\n",
      "  values = np.array([convert(v) for v in values])\n"
     ]
    },
    {
     "name": "stdout",
     "output_type": "stream",
     "text": [
      "                                                   0\n",
      "0  Empty DataFrame\n",
      "Columns: [Invoice No., US/II/2...\n",
      "1     Unnamed: 0 Bill To:\\rArthur J. Gallagher & ...\n",
      "2                                   Sr.No.\n",
      "0  Sr.No.\n",
      "3     Sr.No.                                     ...\n",
      "4                         Description\n",
      "0  Description\n",
      "5                     Amount in USD\n",
      "0  Amount in USD\n",
      "6                                    Check:\n",
      "0  heck:\n",
      "7         Unnamed: 0                             ...\n",
      "8                    Wire Transfer:\n",
      "0  ire Transfer:\n",
      "9  Empty DataFrame\n",
      "Columns: [Deliverables, eliver...\n",
      "E:\\Invoices\\4.April\\IMAGINEA\\Invoice_AJG-Imaginea April_20 -SO-232-GB-Dev-Data Visualization Business Enablement-Onsite.pdf\n"
     ]
    },
    {
     "name": "stderr",
     "output_type": "stream",
     "text": [
      "c:\\users\\venkataswamyn\\appdata\\local\\programs\\python\\python38\\lib\\site-packages\\pandas\\core\\internals\\construction.py:276: VisibleDeprecationWarning: Creating an ndarray from ragged nested sequences (which is a list-or-tuple of lists-or-tuples-or ndarrays with different lengths or shapes) is deprecated. If you meant to do this, you must specify 'dtype=object' when creating the ndarray\n",
      "  values = np.array([convert(v) for v in values])\n"
     ]
    },
    {
     "name": "stdout",
     "output_type": "stream",
     "text": [
      "                                                   0\n",
      "0  Empty DataFrame\n",
      "Columns: [Invoice No., US/II/2...\n",
      "1     Unnamed: 0                 Bill To:\\rArthur...\n",
      "2     Sr.No.                                     ...\n",
      "3                                   Sr.No.\n",
      "0  Sr.No.\n",
      "4                         Description\n",
      "0  Description\n",
      "5                     Amount in USD\n",
      "0  Amount in USD\n",
      "6         Unnamed: 0                             ...\n",
      "7                                    Check:\n",
      "0  heck:\n",
      "8                    Wire Transfer:\n",
      "0  ire Transfer:\n",
      "9  Empty DataFrame\n",
      "Columns: [Deliverables, eliver...\n",
      "E:\\Invoices\\4.April\\IMAGINEA\\Invoice_AJG-Imaginea April_20 -SO-266-GB Onsite QA Services.pdf\n"
     ]
    },
    {
     "name": "stderr",
     "output_type": "stream",
     "text": [
      "c:\\users\\venkataswamyn\\appdata\\local\\programs\\python\\python38\\lib\\site-packages\\pandas\\core\\internals\\construction.py:276: VisibleDeprecationWarning: Creating an ndarray from ragged nested sequences (which is a list-or-tuple of lists-or-tuples-or ndarrays with different lengths or shapes) is deprecated. If you meant to do this, you must specify 'dtype=object' when creating the ndarray\n",
      "  values = np.array([convert(v) for v in values])\n"
     ]
    },
    {
     "name": "stdout",
     "output_type": "stream",
     "text": [
      "                                                   0\n",
      "0  Empty DataFrame\n",
      "Columns: [Invoice No., US/II/2...\n",
      "1     Unnamed: 0   Bill To:\\rArthur J. Gallagher ...\n",
      "2     Sr.No.                                     ...\n",
      "3                                   Sr.No.\n",
      "0  Sr.No.\n",
      "4                         Description\n",
      "0  Description\n",
      "5                     Amount in USD\n",
      "0  Amount in USD\n",
      "6         Unnamed: 0                             ...\n",
      "7                                    Check:\n",
      "0  heck:\n",
      "8                    Wire Transfer:\n",
      "0  ire Transfer:\n",
      "9  Empty DataFrame\n",
      "Columns: [Deliverables, eliver...\n",
      "E:\\Invoices\\4.April\\IMAGINEA\\Invoice_AON_ODM MDS - April_20.pdf\n"
     ]
    },
    {
     "name": "stderr",
     "output_type": "stream",
     "text": [
      "c:\\users\\venkataswamyn\\appdata\\local\\programs\\python\\python38\\lib\\site-packages\\pandas\\core\\internals\\construction.py:276: VisibleDeprecationWarning: Creating an ndarray from ragged nested sequences (which is a list-or-tuple of lists-or-tuples-or ndarrays with different lengths or shapes) is deprecated. If you meant to do this, you must specify 'dtype=object' when creating the ndarray\n",
      "  values = np.array([convert(v) for v in values])\n"
     ]
    },
    {
     "name": "stdout",
     "output_type": "stream",
     "text": [
      "                                                   0\n",
      "0  Empty DataFrame\n",
      "Columns: [Invoice No., US/II/A...\n",
      "1     Unnamed: 0                                 ...\n",
      "2     S No.                          Description ...\n",
      "3      Payment Terms                             ...\n",
      "E:\\Invoices\\4.April\\IMAGINEA\\Invoice_Ask Media_April_20.pdf\n"
     ]
    },
    {
     "name": "stderr",
     "output_type": "stream",
     "text": [
      "c:\\users\\venkataswamyn\\appdata\\local\\programs\\python\\python38\\lib\\site-packages\\pandas\\core\\internals\\construction.py:276: VisibleDeprecationWarning: Creating an ndarray from ragged nested sequences (which is a list-or-tuple of lists-or-tuples-or ndarrays with different lengths or shapes) is deprecated. If you meant to do this, you must specify 'dtype=object' when creating the ndarray\n",
      "  values = np.array([convert(v) for v in values])\n"
     ]
    },
    {
     "name": "stdout",
     "output_type": "stream",
     "text": [
      "                                                    0\n",
      "0   Empty DataFrame\n",
      "Columns: [Invoice No., US/II/2...\n",
      "1      Unnamed: 0 Bill To:\\rAsk Media Group, LLC  ...\n",
      "2                                    Sr.No.\n",
      "0  Sr.No.\n",
      "3      Sr.No.                                     ...\n",
      "4                          Description\n",
      "0  Description\n",
      "5          Unnamed: 0                             ...\n",
      "6                     Wire Transfer:\n",
      "0  ire Transfer:\n",
      "7   Empty DataFrame\n",
      "Columns: [Deliverables, eliver...\n",
      "8                                      S No.\n",
      "0  S No.\n",
      "9      S No.                                      ...\n",
      "10                         Description\n",
      "0  Description\n",
      "11                       Project Role\n",
      "0  Project Role\n",
      "12                            Unit Price\n",
      "0  nit Price\n",
      "E:\\Invoices\\4.April\\IMAGINEA\\Invoice_Brown-and- Brown_April_20 - EBTech Census file Transformation.pdf\n"
     ]
    },
    {
     "name": "stderr",
     "output_type": "stream",
     "text": [
      "c:\\users\\venkataswamyn\\appdata\\local\\programs\\python\\python38\\lib\\site-packages\\pandas\\core\\internals\\construction.py:276: VisibleDeprecationWarning: Creating an ndarray from ragged nested sequences (which is a list-or-tuple of lists-or-tuples-or ndarrays with different lengths or shapes) is deprecated. If you meant to do this, you must specify 'dtype=object' when creating the ndarray\n",
      "  values = np.array([convert(v) for v in values])\n"
     ]
    },
    {
     "name": "stdout",
     "output_type": "stream",
     "text": [
      "                                                    0\n",
      "0   Empty DataFrame\n",
      "Columns: [Invoice No., US/II/2...\n",
      "1      Unnamed: 0                      Bill To:\\rB...\n",
      "2      S No.                                      ...\n",
      "3                                      S No.\n",
      "0  S No.\n",
      "4                           Description\n",
      "0  escription\n",
      "5                      Amount in USD\n",
      "0  Amount in USD\n",
      "6      S No.                                      ...\n",
      "7                                      S No.\n",
      "0  S No.\n",
      "8                           Description\n",
      "0  escription\n",
      "9                        Project Role\n",
      "0  Project Role\n",
      "10                           Unit Price\n",
      "0  Unit Price\n",
      "11         Unnamed: 0                             ...\n",
      "12                    Wire Transfer:\n",
      "0  ire Transfer:\n",
      "13  Empty DataFrame\n",
      "Columns: [Deliverables, eliver...\n",
      "E:\\Invoices\\4.April\\IMAGINEA\\Invoice_Colruyt -April_20.pdf\n"
     ]
    },
    {
     "name": "stderr",
     "output_type": "stream",
     "text": [
      "c:\\users\\venkataswamyn\\appdata\\local\\programs\\python\\python38\\lib\\site-packages\\pandas\\core\\internals\\construction.py:276: VisibleDeprecationWarning: Creating an ndarray from ragged nested sequences (which is a list-or-tuple of lists-or-tuples-or ndarrays with different lengths or shapes) is deprecated. If you meant to do this, you must specify 'dtype=object' when creating the ndarray\n",
      "  values = np.array([convert(v) for v in values])\n"
     ]
    },
    {
     "name": "stdout",
     "output_type": "stream",
     "text": [
      "                                                   0\n",
      "0  Empty DataFrame\n",
      "Columns: [Invoice No., INPT202...\n",
      "1                         Name and address of Sup...\n",
      "2    GST payable under reverse charge:  \\\n",
      "0      ...\n",
      "3                                            Unna...\n",
      "4                  Mode of payment\n",
      "0  ode of payment\n",
      "5     Mode of payment Check in favor of “ Pramati...\n",
      "E:\\Invoices\\4.April\\IMAGINEA\\Invoice_Compliance Line_April_20_API Project.pdf\n"
     ]
    },
    {
     "name": "stderr",
     "output_type": "stream",
     "text": [
      "c:\\users\\venkataswamyn\\appdata\\local\\programs\\python\\python38\\lib\\site-packages\\pandas\\core\\internals\\construction.py:276: VisibleDeprecationWarning: Creating an ndarray from ragged nested sequences (which is a list-or-tuple of lists-or-tuples-or ndarrays with different lengths or shapes) is deprecated. If you meant to do this, you must specify 'dtype=object' when creating the ndarray\n",
      "  values = np.array([convert(v) for v in values])\n"
     ]
    },
    {
     "name": "stdout",
     "output_type": "stream",
     "text": [
      "                                                   0\n",
      "0  Empty DataFrame\n",
      "Columns: [Invoice No., US/II/2...\n",
      "1     Unnamed: 0                           Bill T...\n",
      "2     S No.                                      ...\n",
      "3     S No.  Unnamed: 0                 Project R...\n",
      "4      Payment Terms                             ...\n",
      "E:\\Invoices\\4.April\\IMAGINEA\\Invoice_Compliance Line_April_20_Documentation.pdf\n"
     ]
    },
    {
     "name": "stderr",
     "output_type": "stream",
     "text": [
      "c:\\users\\venkataswamyn\\appdata\\local\\programs\\python\\python38\\lib\\site-packages\\pandas\\core\\internals\\construction.py:276: VisibleDeprecationWarning: Creating an ndarray from ragged nested sequences (which is a list-or-tuple of lists-or-tuples-or ndarrays with different lengths or shapes) is deprecated. If you meant to do this, you must specify 'dtype=object' when creating the ndarray\n",
      "  values = np.array([convert(v) for v in values])\n"
     ]
    },
    {
     "name": "stdout",
     "output_type": "stream",
     "text": [
      "                                                   0\n",
      "0  Empty DataFrame\n",
      "Columns: [Invoice No., US/II/2...\n",
      "1     Unnamed: 0                           Bill T...\n",
      "2     S No.                                      ...\n",
      "3     S No.  Unnamed: 0                          ...\n",
      "4      Payment Terms                             ...\n",
      "E:\\Invoices\\4.April\\IMAGINEA\\Invoice_Compliance Line_April_20_MyCM 4.1.pdf\n"
     ]
    },
    {
     "name": "stderr",
     "output_type": "stream",
     "text": [
      "c:\\users\\venkataswamyn\\appdata\\local\\programs\\python\\python38\\lib\\site-packages\\pandas\\core\\internals\\construction.py:276: VisibleDeprecationWarning: Creating an ndarray from ragged nested sequences (which is a list-or-tuple of lists-or-tuples-or ndarrays with different lengths or shapes) is deprecated. If you meant to do this, you must specify 'dtype=object' when creating the ndarray\n",
      "  values = np.array([convert(v) for v in values])\n"
     ]
    },
    {
     "name": "stdout",
     "output_type": "stream",
     "text": [
      "                                                   0\n",
      "0  Empty DataFrame\n",
      "Columns: [Invoice No., US/II/2...\n",
      "1     Unnamed: 0                            Bill ...\n",
      "2     S No.                                      ...\n",
      "3     S No.  Unnamed: 0          Project Role Uni...\n",
      "4      Payment Terms                             ...\n",
      "E:\\Invoices\\4.April\\IMAGINEA\\Invoice_ContractNow - April_20.pdf\n"
     ]
    },
    {
     "name": "stderr",
     "output_type": "stream",
     "text": [
      "c:\\users\\venkataswamyn\\appdata\\local\\programs\\python\\python38\\lib\\site-packages\\pandas\\core\\internals\\construction.py:276: VisibleDeprecationWarning: Creating an ndarray from ragged nested sequences (which is a list-or-tuple of lists-or-tuples-or ndarrays with different lengths or shapes) is deprecated. If you meant to do this, you must specify 'dtype=object' when creating the ndarray\n",
      "  values = np.array([convert(v) for v in values])\n"
     ]
    },
    {
     "name": "stdout",
     "output_type": "stream",
     "text": [
      "                                                   0\n",
      "0  Empty DataFrame\n",
      "Columns: [Invoice No., PTEL/PM...\n",
      "1     Unnamed: 0                    ContractNow L...\n",
      "2      Sr.No.                                    ...\n",
      "E:\\Invoices\\4.April\\IMAGINEA\\Invoice_CredHub_April_20.pdf\n"
     ]
    },
    {
     "name": "stderr",
     "output_type": "stream",
     "text": [
      "c:\\users\\venkataswamyn\\appdata\\local\\programs\\python\\python38\\lib\\site-packages\\pandas\\core\\internals\\construction.py:276: VisibleDeprecationWarning: Creating an ndarray from ragged nested sequences (which is a list-or-tuple of lists-or-tuples-or ndarrays with different lengths or shapes) is deprecated. If you meant to do this, you must specify 'dtype=object' when creating the ndarray\n",
      "  values = np.array([convert(v) for v in values])\n"
     ]
    },
    {
     "name": "stdout",
     "output_type": "stream",
     "text": [
      "                                                   0\n",
      "0  Empty DataFrame\n",
      "Columns: [Invoice No., US/II/C...\n",
      "1     Unnamed: 0             Bill To:\\rCredhub LL...\n",
      "2                                      S No.\n",
      "0   No.\n",
      "3    S No.                        Description    ...\n",
      "4                          Description\n",
      "0  escription\n",
      "5                       Project Role\n",
      "0  Project Role\n",
      "6                           Rate (USD)\n",
      "0  Rate (USD)\n",
      "7                    Wire Transfer:\n",
      "0  ire Transfer:\n",
      "8  Empty DataFrame\n",
      "Columns: [Deliverables, eliver...\n",
      "9         Unnamed: 0                             ...\n",
      "E:\\Invoices\\4.April\\IMAGINEA\\Invoice_EOS_April_20.pdf\n"
     ]
    },
    {
     "name": "stderr",
     "output_type": "stream",
     "text": [
      "c:\\users\\venkataswamyn\\appdata\\local\\programs\\python\\python38\\lib\\site-packages\\pandas\\core\\internals\\construction.py:276: VisibleDeprecationWarning: Creating an ndarray from ragged nested sequences (which is a list-or-tuple of lists-or-tuples-or ndarrays with different lengths or shapes) is deprecated. If you meant to do this, you must specify 'dtype=object' when creating the ndarray\n",
      "  values = np.array([convert(v) for v in values])\n"
     ]
    },
    {
     "name": "stdout",
     "output_type": "stream",
     "text": [
      "                                                   0\n",
      "0  Empty DataFrame\n",
      "Columns: [Invoice No., US/II/2...\n",
      "1     Unnamed: 0   Bill To:\\rEos Group, Inc.  Shi...\n",
      "2     S No.                                    De...\n",
      "3                                      S No.\n",
      "0   No.\n",
      "4                         Description\n",
      "0  Description\n",
      "5                       Project Role\n",
      "0  Project Role\n",
      "6                           Rate (USD)\n",
      "0  Rate (USD)\n",
      "7         Unnamed: 0                             ...\n",
      "8                    Wire Transfer:\n",
      "0  ire Transfer:\n",
      "9  Empty DataFrame\n",
      "Columns: [Deliverables, eliver...\n",
      "E:\\Invoices\\4.April\\IMAGINEA\\Invoice_FICO_April_20 - Analytic Cloud Dev Team.pdf\n"
     ]
    },
    {
     "name": "stderr",
     "output_type": "stream",
     "text": [
      "c:\\users\\venkataswamyn\\appdata\\local\\programs\\python\\python38\\lib\\site-packages\\pandas\\core\\internals\\construction.py:276: VisibleDeprecationWarning: Creating an ndarray from ragged nested sequences (which is a list-or-tuple of lists-or-tuples-or ndarrays with different lengths or shapes) is deprecated. If you meant to do this, you must specify 'dtype=object' when creating the ndarray\n",
      "  values = np.array([convert(v) for v in values])\n"
     ]
    },
    {
     "name": "stdout",
     "output_type": "stream",
     "text": [
      "                                                   0\n",
      "0  Empty DataFrame\n",
      "Columns: [Invoice No., US/II/2...\n",
      "1     Unnamed: 0                    Bill To:  Shi...\n",
      "2    Unnamed: 0                         Unnamed: ...\n",
      "3      Payment Terms                             ...\n",
      "E:\\Invoices\\4.April\\IMAGINEA\\Invoice_FleXit_April_20.pdf\n"
     ]
    },
    {
     "name": "stderr",
     "output_type": "stream",
     "text": [
      "c:\\users\\venkataswamyn\\appdata\\local\\programs\\python\\python38\\lib\\site-packages\\pandas\\core\\internals\\construction.py:276: VisibleDeprecationWarning: Creating an ndarray from ragged nested sequences (which is a list-or-tuple of lists-or-tuples-or ndarrays with different lengths or shapes) is deprecated. If you meant to do this, you must specify 'dtype=object' when creating the ndarray\n",
      "  values = np.array([convert(v) for v in values])\n"
     ]
    },
    {
     "name": "stdout",
     "output_type": "stream",
     "text": [
      "                                                    0\n",
      "0   Empty DataFrame\n",
      "Columns: [Invoice No., US/II/2...\n",
      "1      Unnamed: 0      Bill To:\\rFlexIt, Inc.  Shi...\n",
      "2      S No.                        Description   ...\n",
      "3                                      S No.\n",
      "0  S No.\n",
      "4                           Description\n",
      "0  escription\n",
      "5                        Project Role\n",
      "0  Project Role\n",
      "6                            Unit Price\n",
      "0  Unit Price\n",
      "7                      Amount in USD\n",
      "0  Amount in USD\n",
      "8                                     Check:\n",
      "0  heck:\n",
      "9                     Wire Transfer:\n",
      "0  ire Transfer:\n",
      "10  Empty DataFrame\n",
      "Columns: [Deliverables, eliver...\n",
      "11         Unnamed: 0                             ...\n",
      "E:\\Invoices\\4.April\\IMAGINEA\\Invoice_Inventus - April_20.pdf\n"
     ]
    },
    {
     "name": "stderr",
     "output_type": "stream",
     "text": [
      "c:\\users\\venkataswamyn\\appdata\\local\\programs\\python\\python38\\lib\\site-packages\\pandas\\core\\internals\\construction.py:276: VisibleDeprecationWarning: Creating an ndarray from ragged nested sequences (which is a list-or-tuple of lists-or-tuples-or ndarrays with different lengths or shapes) is deprecated. If you meant to do this, you must specify 'dtype=object' when creating the ndarray\n",
      "  values = np.array([convert(v) for v in values])\n"
     ]
    },
    {
     "name": "stdout",
     "output_type": "stream",
     "text": [
      "                                                   0\n",
      "0  Empty DataFrame\n",
      "Columns: [Invoice No., PTEL/PM...\n",
      "1     Unnamed: 0                     Inventus Sol...\n",
      "2     Unnamed: 0                                 ...\n",
      "E:\\Invoices\\4.April\\IMAGINEA\\Invoice_LevaData_April_20.pdf\n"
     ]
    },
    {
     "name": "stderr",
     "output_type": "stream",
     "text": [
      "c:\\users\\venkataswamyn\\appdata\\local\\programs\\python\\python38\\lib\\site-packages\\pandas\\core\\internals\\construction.py:276: VisibleDeprecationWarning: Creating an ndarray from ragged nested sequences (which is a list-or-tuple of lists-or-tuples-or ndarrays with different lengths or shapes) is deprecated. If you meant to do this, you must specify 'dtype=object' when creating the ndarray\n",
      "  values = np.array([convert(v) for v in values])\n"
     ]
    },
    {
     "name": "stdout",
     "output_type": "stream",
     "text": [
      "                                                    0\n",
      "0      Unnamed: 0   Unnamed: 1  Unnamed: 2        ...\n",
      "1      Unnamed: 0  Unnamed: 1  Unnamed: 2         ...\n",
      "2       Unnamed: 0 Unnamed: 1 Unnamed: 2          ...\n",
      "3                                       S No.\n",
      "0   No.\n",
      "4                          Description\n",
      "0  Description\n",
      "5                        Project Role\n",
      "0  Project Role\n",
      "6                            Unit Price\n",
      "0  Unit Price\n",
      "7                      Amount in USD\n",
      "0  Amount in USD\n",
      "8                            Unnamed: 0\n",
      "0         NaN\n",
      "9      Total Invoice Amount for the April’20\n",
      "0  To...\n",
      "10                           Unnamed: 0\n",
      "0         NaN\n",
      "11                           Unnamed: 0\n",
      "0         NaN\n",
      "12                                    20,250\n",
      "0  20,25\n",
      "13      Unnamed: 0      Unnamed: 1     Unnamed: 2 ...\n",
      "14                                    Check:\n",
      "0  heck:\n",
      "15                    Wire Transfer:\n",
      "0  ire Transfer:\n",
      "16     Email: accounts@imaginea.com\n",
      "0             ...\n",
      "17  Empty DataFrame\n",
      "Columns: [Deliverables, eliver...\n",
      "E:\\Invoices\\4.April\\IMAGINEA\\Invoice_Lumity_April_20.pdf\n"
     ]
    },
    {
     "name": "stderr",
     "output_type": "stream",
     "text": [
      "c:\\users\\venkataswamyn\\appdata\\local\\programs\\python\\python38\\lib\\site-packages\\pandas\\core\\internals\\construction.py:276: VisibleDeprecationWarning: Creating an ndarray from ragged nested sequences (which is a list-or-tuple of lists-or-tuples-or ndarrays with different lengths or shapes) is deprecated. If you meant to do this, you must specify 'dtype=object' when creating the ndarray\n",
      "  values = np.array([convert(v) for v in values])\n"
     ]
    },
    {
     "name": "stdout",
     "output_type": "stream",
     "text": [
      "                                                    0\n",
      "0      Unnamed: 0   Unnamed: 1  Unnamed: 2        ...\n",
      "1      Unnamed: 0  Unnamed: 1  Unnamed: 2  \\\n",
      "0    ...\n",
      "2       Unnamed: 0 Unnamed: 1 Unnamed: 2          ...\n",
      "3                                       S No.\n",
      "0   No.\n",
      "4                          Description\n",
      "0  Description\n",
      "5                        Project Role\n",
      "0  Project Role\n",
      "6                            Unit Price\n",
      "0  Unit Price\n",
      "7                      Amount in USD\n",
      "0  Amount in USD\n",
      "8                            Unnamed: 0\n",
      "0         NaN\n",
      "9      Total Invoice Amount for April’20\n",
      "0  Total ...\n",
      "10                           Unnamed: 0\n",
      "0         NaN\n",
      "11                           Unnamed: 0\n",
      "0         NaN\n",
      "12                                    71,000\n",
      "0  71,00\n",
      "13      Unnamed: 0      Unnamed: 1     Unnamed: 2 ...\n",
      "14                                    Check:\n",
      "0  heck:\n",
      "15                    Wire Transfer:\n",
      "0  ire Transfer:\n",
      "16     Email: accounts@imaginea.com\n",
      "0             ...\n",
      "17  Empty DataFrame\n",
      "Columns: [Deliverables, eliver...\n",
      "E:\\Invoices\\4.April\\IMAGINEA\\Invoice_Mercari_April_20.pdf\n"
     ]
    },
    {
     "name": "stderr",
     "output_type": "stream",
     "text": [
      "c:\\users\\venkataswamyn\\appdata\\local\\programs\\python\\python38\\lib\\site-packages\\pandas\\core\\internals\\construction.py:276: VisibleDeprecationWarning: Creating an ndarray from ragged nested sequences (which is a list-or-tuple of lists-or-tuples-or ndarrays with different lengths or shapes) is deprecated. If you meant to do this, you must specify 'dtype=object' when creating the ndarray\n",
      "  values = np.array([convert(v) for v in values])\n"
     ]
    },
    {
     "name": "stdout",
     "output_type": "stream",
     "text": [
      "                                                    0\n",
      "0      Unnamed: 0   Unnamed: 1  Unnamed: 2        ...\n",
      "1      Unnamed: 0  Unnamed: 1  Unnamed: 2         ...\n",
      "2       Unnamed: 0 Unnamed: 1 Unnamed: 2          ...\n",
      "3                                       S No.\n",
      "0   No.\n",
      "4                          Description\n",
      "0  Description\n",
      "5                        Project Role\n",
      "0  Project Role\n",
      "6                            Unit Price\n",
      "0  Unit Price\n",
      "7                      Amount in USD\n",
      "0  Amount in USD\n",
      "8                            Unnamed: 0\n",
      "0         NaN\n",
      "9      Total Invoice Amount for April’20\n",
      "0  Total ...\n",
      "10                           Unnamed: 0\n",
      "0         NaN\n",
      "11                           Unnamed: 0\n",
      "0         NaN\n",
      "12                                    34,000\n",
      "0  34,00\n",
      "13      Unnamed: 0      Unnamed: 1     Unnamed: 2 ...\n",
      "14                                    Check:\n",
      "0  heck:\n",
      "15                    Wire Transfer:\n",
      "0  ire Transfer:\n",
      "16     Email: accounts@imaginea.com\n",
      "0             ...\n",
      "17  Empty DataFrame\n",
      "Columns: [Deliverables, eliver...\n",
      "E:\\Invoices\\4.April\\IMAGINEA\\Invoice_Nielsen_April_20 - IPM_1.pdf\n"
     ]
    },
    {
     "name": "stderr",
     "output_type": "stream",
     "text": [
      "c:\\users\\venkataswamyn\\appdata\\local\\programs\\python\\python38\\lib\\site-packages\\pandas\\core\\internals\\construction.py:276: VisibleDeprecationWarning: Creating an ndarray from ragged nested sequences (which is a list-or-tuple of lists-or-tuples-or ndarrays with different lengths or shapes) is deprecated. If you meant to do this, you must specify 'dtype=object' when creating the ndarray\n",
      "  values = np.array([convert(v) for v in values])\n"
     ]
    },
    {
     "name": "stdout",
     "output_type": "stream",
     "text": [
      "                                                   0\n",
      "0  Empty DataFrame\n",
      "Columns: [Invoice No., US/II/2...\n",
      "1                                     Bill To:  S...\n",
      "2     Sl. No.                                    ...\n",
      "3    Unnamed: 0                         Unnamed: ...\n",
      "4      Payment Terms                             ...\n",
      "E:\\Invoices\\4.April\\IMAGINEA\\Invoice_Nielsen_April_20 - IPM_2.pdf\n"
     ]
    },
    {
     "name": "stderr",
     "output_type": "stream",
     "text": [
      "c:\\users\\venkataswamyn\\appdata\\local\\programs\\python\\python38\\lib\\site-packages\\pandas\\core\\internals\\construction.py:276: VisibleDeprecationWarning: Creating an ndarray from ragged nested sequences (which is a list-or-tuple of lists-or-tuples-or ndarrays with different lengths or shapes) is deprecated. If you meant to do this, you must specify 'dtype=object' when creating the ndarray\n",
      "  values = np.array([convert(v) for v in values])\n"
     ]
    },
    {
     "name": "stdout",
     "output_type": "stream",
     "text": [
      "                                                   0\n",
      "0  Empty DataFrame\n",
      "Columns: [Invoice No., US/II/2...\n",
      "1                                     Bill To:  S...\n",
      "2     Sl. No.                                    ...\n",
      "3     Unnamed: 0               Unnamed: 1        ...\n",
      "E:\\Invoices\\4.April\\IMAGINEA\\Invoice_Nielsen_April_20 - Studio.pdf\n"
     ]
    },
    {
     "name": "stderr",
     "output_type": "stream",
     "text": [
      "c:\\users\\venkataswamyn\\appdata\\local\\programs\\python\\python38\\lib\\site-packages\\pandas\\core\\internals\\construction.py:276: VisibleDeprecationWarning: Creating an ndarray from ragged nested sequences (which is a list-or-tuple of lists-or-tuples-or ndarrays with different lengths or shapes) is deprecated. If you meant to do this, you must specify 'dtype=object' when creating the ndarray\n",
      "  values = np.array([convert(v) for v in values])\n"
     ]
    },
    {
     "name": "stdout",
     "output_type": "stream",
     "text": [
      "                                                   0\n",
      "0  Empty DataFrame\n",
      "Columns: [Invoice No., US/II/2...\n",
      "1                                     Bill To:  S...\n",
      "2     Sl. No.                                    ...\n",
      "3     Unnamed: 0                 Unnamed: 1      ...\n",
      "E:\\Invoices\\4.April\\IMAGINEA\\Invoice_OATH_April_20.pdf\n"
     ]
    },
    {
     "name": "stderr",
     "output_type": "stream",
     "text": [
      "c:\\users\\venkataswamyn\\appdata\\local\\programs\\python\\python38\\lib\\site-packages\\pandas\\core\\internals\\construction.py:276: VisibleDeprecationWarning: Creating an ndarray from ragged nested sequences (which is a list-or-tuple of lists-or-tuples-or ndarrays with different lengths or shapes) is deprecated. If you meant to do this, you must specify 'dtype=object' when creating the ndarray\n",
      "  values = np.array([convert(v) for v in values])\n"
     ]
    },
    {
     "name": "stdout",
     "output_type": "stream",
     "text": [
      "                                                    0\n",
      "0   Empty DataFrame\n",
      "Columns: [Invoice No., US/II/2...\n",
      "1      Unnamed: 0            Bill To:\\rOath Inc., ...\n",
      "2      S No.            Description         Team  ...\n",
      "3                                       S No.\n",
      "0   No.\n",
      "4                          Description\n",
      "0  Description\n",
      "5                                        Team\n",
      "0  Team\n",
      "6                        Project Role\n",
      "0  Project Role\n",
      "7          Unnamed: 0                             ...\n",
      "8                                     Check:\n",
      "0  heck:\n",
      "9                     Wire Transfer:\n",
      "0  ire Transfer:\n",
      "10  Empty DataFrame\n",
      "Columns: [Deliverables, eliver...\n",
      "E:\\Invoices\\4.April\\IMAGINEA\\Invoice_Orbital Insight_April_20.pdf\n"
     ]
    },
    {
     "name": "stderr",
     "output_type": "stream",
     "text": [
      "c:\\users\\venkataswamyn\\appdata\\local\\programs\\python\\python38\\lib\\site-packages\\pandas\\core\\internals\\construction.py:276: VisibleDeprecationWarning: Creating an ndarray from ragged nested sequences (which is a list-or-tuple of lists-or-tuples-or ndarrays with different lengths or shapes) is deprecated. If you meant to do this, you must specify 'dtype=object' when creating the ndarray\n",
      "  values = np.array([convert(v) for v in values])\n"
     ]
    },
    {
     "name": "stdout",
     "output_type": "stream",
     "text": [
      "                                                    0\n",
      "0      Unnamed: 0   Unnamed: 1  Unnamed: 2        ...\n",
      "1       Unnamed: 0  Unnamed: 1  Unnamed: 2        ...\n",
      "2       Unnamed: 0 Unnamed: 1                     ...\n",
      "3                                       S No.\n",
      "0   No.\n",
      "4                          Description\n",
      "0  Description\n",
      "5                        Project Role\n",
      "0  Project Role\n",
      "6                            Unit Price\n",
      "0  Unit Price\n",
      "7                      Amount in USD\n",
      "0  Amount in USD\n",
      "8                                     27,000\n",
      "0  27,00\n",
      "9       Unnamed: 0      Unnamed: 1     Unnamed: 2 ...\n",
      "10                                    Check:\n",
      "0  heck:\n",
      "11                    Wire Transfer:\n",
      "0  ire Transfer:\n",
      "12     Email: accounts@imaginea.com\n",
      "0             ...\n",
      "13  Empty DataFrame\n",
      "Columns: [Deliverables, eliver...\n",
      "E:\\Invoices\\4.April\\IMAGINEA\\Invoice_Pierce Washington_April_20.pdf\n"
     ]
    },
    {
     "name": "stderr",
     "output_type": "stream",
     "text": [
      "c:\\users\\venkataswamyn\\appdata\\local\\programs\\python\\python38\\lib\\site-packages\\pandas\\core\\internals\\construction.py:276: VisibleDeprecationWarning: Creating an ndarray from ragged nested sequences (which is a list-or-tuple of lists-or-tuples-or ndarrays with different lengths or shapes) is deprecated. If you meant to do this, you must specify 'dtype=object' when creating the ndarray\n",
      "  values = np.array([convert(v) for v in values])\n"
     ]
    },
    {
     "name": "stdout",
     "output_type": "stream",
     "text": [
      "                                                    0\n",
      "0      Unnamed: 0   Unnamed: 1  Unnamed: 2        ...\n",
      "1      Unnamed: 0  Unnamed: 1  Unnamed: 2         ...\n",
      "2      Unnamed: 0 Unnamed: 1 Unnamed: 2  \\\n",
      "0      ...\n",
      "3                                       S No.\n",
      "0   No.\n",
      "4                          Description\n",
      "0  Description\n",
      "5                         Project Role\n",
      "0  roject Role\n",
      "6                            Unit Price\n",
      "0  Unit Price\n",
      "7                       Amount in USD\n",
      "0  mount in USD\n",
      "8                            Unnamed: 0\n",
      "0         NaN\n",
      "9      Total Invoice Amount for April’20\n",
      "0  Total ...\n",
      "10                           Unnamed: 0\n",
      "0         NaN\n",
      "11                           Unnamed: 0\n",
      "0         NaN\n",
      "12                                      1,818\n",
      "0  1,81\n",
      "13      Unnamed: 0      Unnamed: 1     Unnamed: 2 ...\n",
      "14                                    Check:\n",
      "0  heck:\n",
      "15                    Wire Transfer:\n",
      "0  ire Transfer:\n",
      "16     Email: accounts@imaginea.com\n",
      "0             ...\n",
      "17  Empty DataFrame\n",
      "Columns: [Deliverables, eliver...\n",
      "E:\\Invoices\\4.April\\IMAGINEA\\Invoice_Plymouth Rock_April_20.pdf\n"
     ]
    },
    {
     "name": "stderr",
     "output_type": "stream",
     "text": [
      "c:\\users\\venkataswamyn\\appdata\\local\\programs\\python\\python38\\lib\\site-packages\\pandas\\core\\internals\\construction.py:276: VisibleDeprecationWarning: Creating an ndarray from ragged nested sequences (which is a list-or-tuple of lists-or-tuples-or ndarrays with different lengths or shapes) is deprecated. If you meant to do this, you must specify 'dtype=object' when creating the ndarray\n",
      "  values = np.array([convert(v) for v in values])\n"
     ]
    },
    {
     "name": "stdout",
     "output_type": "stream",
     "text": [
      "                                                    0\n",
      "0      Unnamed: 0   Unnamed: 1  Unnamed: 2        ...\n",
      "1      Unnamed: 0  Unnamed: 1  Unnamed: 2  \\\n",
      "0    ...\n",
      "2       Unnamed: 0 Unnamed: 1 Unnamed: 2  \\\n",
      "0     ...\n",
      "3                                       S No.\n",
      "0   No.\n",
      "4                          Description\n",
      "0  Description\n",
      "5                        Project Role\n",
      "0  Project Role\n",
      "6                            Unit Price\n",
      "0  Unit Price\n",
      "7                      Amount in USD\n",
      "0  Amount in USD\n",
      "8                            Unnamed: 0\n",
      "0         NaN\n",
      "9      Total Invoice Amount for April’20\n",
      "0  Total ...\n",
      "10                           Unnamed: 0\n",
      "0         NaN\n",
      "11                           Unnamed: 0\n",
      "0         NaN\n",
      "12                                    43,309\n",
      "0  43,30\n",
      "E:\\Invoices\\4.April\\IMAGINEA\\Invoice_RGL Logistics_April_20.pdf\n"
     ]
    },
    {
     "name": "stderr",
     "output_type": "stream",
     "text": [
      "c:\\users\\venkataswamyn\\appdata\\local\\programs\\python\\python38\\lib\\site-packages\\pandas\\core\\internals\\construction.py:276: VisibleDeprecationWarning: Creating an ndarray from ragged nested sequences (which is a list-or-tuple of lists-or-tuples-or ndarrays with different lengths or shapes) is deprecated. If you meant to do this, you must specify 'dtype=object' when creating the ndarray\n",
      "  values = np.array([convert(v) for v in values])\n"
     ]
    },
    {
     "name": "stdout",
     "output_type": "stream",
     "text": [
      "                                                   0\n",
      "0  Empty DataFrame\n",
      "Columns: [Invoice No., US/II/2...\n",
      "1     Unnamed: 0                Bill To:  Ship To...\n",
      "2     S No.                                      ...\n",
      "3    Unnamed: 0                            Unname...\n",
      "4      Payment Terms                             ...\n",
      "E:\\Invoices\\4.April\\IMAGINEA\\Invoice_RPX_April_20.pdf\n"
     ]
    },
    {
     "name": "stderr",
     "output_type": "stream",
     "text": [
      "c:\\users\\venkataswamyn\\appdata\\local\\programs\\python\\python38\\lib\\site-packages\\pandas\\core\\internals\\construction.py:276: VisibleDeprecationWarning: Creating an ndarray from ragged nested sequences (which is a list-or-tuple of lists-or-tuples-or ndarrays with different lengths or shapes) is deprecated. If you meant to do this, you must specify 'dtype=object' when creating the ndarray\n",
      "  values = np.array([convert(v) for v in values])\n"
     ]
    },
    {
     "name": "stdout",
     "output_type": "stream",
     "text": [
      "                                                   0\n",
      "0  Empty DataFrame\n",
      "Columns: [Invoice No., US/II/2...\n",
      "1     Unnamed: 0                         Bill To:...\n",
      "2                                        S.No\n",
      "0  .No\n",
      "3     S.No  Emp Id               Member Name     ...\n",
      "4                                   Emp Id\n",
      "0  Emp Id\n",
      "5                         Member Name\n",
      "0  Member Name\n",
      "6                       Project Role\n",
      "0  Project Role\n",
      "7                           Unit Price\n",
      "0  Unit Price\n",
      "E:\\Invoices\\4.April\\IMAGINEA\\Invoice_Sema 4_April_20.pdf\n"
     ]
    },
    {
     "name": "stderr",
     "output_type": "stream",
     "text": [
      "c:\\users\\venkataswamyn\\appdata\\local\\programs\\python\\python38\\lib\\site-packages\\pandas\\core\\internals\\construction.py:276: VisibleDeprecationWarning: Creating an ndarray from ragged nested sequences (which is a list-or-tuple of lists-or-tuples-or ndarrays with different lengths or shapes) is deprecated. If you meant to do this, you must specify 'dtype=object' when creating the ndarray\n",
      "  values = np.array([convert(v) for v in values])\n"
     ]
    },
    {
     "name": "stdout",
     "output_type": "stream",
     "text": [
      "                                                   0\n",
      "0  Empty DataFrame\n",
      "Columns: [Invoice No., US/II/2...\n",
      "1     Unnamed: 0 Bill To:\\rMount Sinai Genomics, ...\n",
      "2     S No.                  Description         ...\n",
      "3                                      S No.\n",
      "0   No.\n",
      "4                         Description\n",
      "0  Description\n",
      "5                       Project Role\n",
      "0  Project Role\n",
      "6                           Unit Price\n",
      "0  Unit Price\n",
      "7                     Amount in USD\n",
      "0  Amount in USD\n",
      "E:\\Invoices\\4.April\\IMAGINEA\\Invoice_SproutLoud_April_20.pdf\n"
     ]
    },
    {
     "name": "stderr",
     "output_type": "stream",
     "text": [
      "c:\\users\\venkataswamyn\\appdata\\local\\programs\\python\\python38\\lib\\site-packages\\pandas\\core\\internals\\construction.py:276: VisibleDeprecationWarning: Creating an ndarray from ragged nested sequences (which is a list-or-tuple of lists-or-tuples-or ndarrays with different lengths or shapes) is deprecated. If you meant to do this, you must specify 'dtype=object' when creating the ndarray\n",
      "  values = np.array([convert(v) for v in values])\n"
     ]
    },
    {
     "name": "stdout",
     "output_type": "stream",
     "text": [
      "                                                   0\n",
      "0  Empty DataFrame\n",
      "Columns: [Invoice No., US/II/2...\n",
      "1     Unnamed: 0                                 ...\n",
      "2     Sl. No.                                    ...\n",
      "3    Unnamed: 0                  Unnamed: 1   Unn...\n",
      "4    Unnamed: 0                  Unnamed: 1   Unn...\n",
      "E:\\Invoices\\4.April\\IMAGINEA\\Invoice_Tamr_April_20.pdf\n"
     ]
    },
    {
     "name": "stderr",
     "output_type": "stream",
     "text": [
      "c:\\users\\venkataswamyn\\appdata\\local\\programs\\python\\python38\\lib\\site-packages\\pandas\\core\\internals\\construction.py:276: VisibleDeprecationWarning: Creating an ndarray from ragged nested sequences (which is a list-or-tuple of lists-or-tuples-or ndarrays with different lengths or shapes) is deprecated. If you meant to do this, you must specify 'dtype=object' when creating the ndarray\n",
      "  values = np.array([convert(v) for v in values])\n"
     ]
    },
    {
     "name": "stdout",
     "output_type": "stream",
     "text": [
      "                                                   0\n",
      "0  Empty DataFrame\n",
      "Columns: [Invoice No., US/II/2...\n",
      "1     Unnamed: 0                             Bill...\n",
      "2    Unnamed: 0                         Unnamed: ...\n",
      "3      Payment Terms                             ...\n",
      "E:\\Invoices\\4.April\\IMAGINEA\\Invoice_ThroughPut_April_20.pdf\n"
     ]
    },
    {
     "name": "stderr",
     "output_type": "stream",
     "text": [
      "c:\\users\\venkataswamyn\\appdata\\local\\programs\\python\\python38\\lib\\site-packages\\pandas\\core\\internals\\construction.py:276: VisibleDeprecationWarning: Creating an ndarray from ragged nested sequences (which is a list-or-tuple of lists-or-tuples-or ndarrays with different lengths or shapes) is deprecated. If you meant to do this, you must specify 'dtype=object' when creating the ndarray\n",
      "  values = np.array([convert(v) for v in values])\n"
     ]
    },
    {
     "name": "stdout",
     "output_type": "stream",
     "text": [
      "                                                   0\n",
      "0      Unnamed: 0          Unnamed: 1 Unnamed: 2 ...\n",
      "1     Unnamed: 0                                 ...\n",
      "2    Unnamed: 0  Unnamed: 1                      ...\n",
      "3      Payment Terms                             ...\n",
      "E:\\Invoices\\4.April\\IMAGINEA\\Invoice_Turvo_April_20.pdf\n"
     ]
    },
    {
     "name": "stderr",
     "output_type": "stream",
     "text": [
      "c:\\users\\venkataswamyn\\appdata\\local\\programs\\python\\python38\\lib\\site-packages\\pandas\\core\\internals\\construction.py:276: VisibleDeprecationWarning: Creating an ndarray from ragged nested sequences (which is a list-or-tuple of lists-or-tuples-or ndarrays with different lengths or shapes) is deprecated. If you meant to do this, you must specify 'dtype=object' when creating the ndarray\n",
      "  values = np.array([convert(v) for v in values])\n"
     ]
    },
    {
     "name": "stdout",
     "output_type": "stream",
     "text": [
      "                                                   0\n",
      "0  Empty DataFrame\n",
      "Columns: [Invoice No., US/II/2...\n",
      "1     Unnamed: 0                Bill To:  Ship To...\n",
      "2      S No.                                     ...\n",
      "E:\\Invoices\\4.April\\IMAGINEA\\Invoice_Valet Living_April_20.pdf\n"
     ]
    },
    {
     "name": "stderr",
     "output_type": "stream",
     "text": [
      "c:\\users\\venkataswamyn\\appdata\\local\\programs\\python\\python38\\lib\\site-packages\\pandas\\core\\internals\\construction.py:276: VisibleDeprecationWarning: Creating an ndarray from ragged nested sequences (which is a list-or-tuple of lists-or-tuples-or ndarrays with different lengths or shapes) is deprecated. If you meant to do this, you must specify 'dtype=object' when creating the ndarray\n",
      "  values = np.array([convert(v) for v in values])\n"
     ]
    },
    {
     "name": "stdout",
     "output_type": "stream",
     "text": [
      "                                                   0\n",
      "0  Empty DataFrame\n",
      "Columns: [Invoice No., US/II/2...\n",
      "1     Unnamed: 0                   Bill To:\\rVale...\n",
      "2     Sl. No.                                    ...\n",
      "3                                 Sl. No.\n",
      "0  Sl. No.\n",
      "4                         Description\n",
      "0  Description\n",
      "5                       Amount (USD)\n",
      "0  Amount (USD)\n",
      "6     S No.               Description           P...\n",
      "7                                     S No.\n",
      "0  S No.\n",
      "8                          Description\n",
      "0  escription\n",
      "9                       Project Role\n",
      "0  Project Role\n",
      "E:\\Invoices\\4.April\\IMAGINEA\\Invoice_Western United_April_20.pdf\n",
      "                                                   0\n",
      "0  Empty DataFrame\n",
      "Columns: [Invoice No., US/II/2...\n",
      "1     Unnamed: 0                               Bi...\n",
      "2     S No.                                      ...\n",
      "3      Payment Terms                             ...\n",
      "E:\\Invoices\\5.May\n",
      "E:\\Invoices\\5.May\\IMAGINEA\n"
     ]
    },
    {
     "name": "stderr",
     "output_type": "stream",
     "text": [
      "c:\\users\\venkataswamyn\\appdata\\local\\programs\\python\\python38\\lib\\site-packages\\pandas\\core\\internals\\construction.py:276: VisibleDeprecationWarning: Creating an ndarray from ragged nested sequences (which is a list-or-tuple of lists-or-tuples-or ndarrays with different lengths or shapes) is deprecated. If you meant to do this, you must specify 'dtype=object' when creating the ndarray\n",
      "  values = np.array([convert(v) for v in values])\n"
     ]
    },
    {
     "ename": "FileNotFoundError",
     "evalue": "[WinError 3] The system cannot find the path specified: 'E:\\\\Invoices\\\\5.May\\\\IMAGINEA'",
     "output_type": "error",
     "traceback": [
      "\u001b[1;31m---------------------------------------------------------------------------\u001b[0m",
      "\u001b[1;31mFileNotFoundError\u001b[0m                         Traceback (most recent call last)",
      "\u001b[1;32m<ipython-input-157-35c969e1ec00>\u001b[0m in \u001b[0;36m<module>\u001b[1;34m\u001b[0m\n\u001b[0;32m      5\u001b[0m     \u001b[0mfilename\u001b[0m  \u001b[1;33m=\u001b[0m \u001b[0mos\u001b[0m\u001b[1;33m.\u001b[0m\u001b[0mpath\u001b[0m\u001b[1;33m.\u001b[0m\u001b[0mjoin\u001b[0m\u001b[1;33m(\u001b[0m\u001b[0my\u001b[0m\u001b[1;33m,\u001b[0m \u001b[1;34m\"IMAGINEA\"\u001b[0m\u001b[1;33m)\u001b[0m\u001b[1;33m\u001b[0m\u001b[1;33m\u001b[0m\u001b[0m\n\u001b[0;32m      6\u001b[0m     \u001b[0mprint\u001b[0m\u001b[1;33m(\u001b[0m\u001b[0mfilename\u001b[0m\u001b[1;33m)\u001b[0m\u001b[1;33m\u001b[0m\u001b[1;33m\u001b[0m\u001b[0m\n\u001b[1;32m----> 7\u001b[1;33m     \u001b[0mx\u001b[0m \u001b[1;33m=\u001b[0m \u001b[0mos\u001b[0m\u001b[1;33m.\u001b[0m\u001b[0mlistdir\u001b[0m\u001b[1;33m(\u001b[0m\u001b[0mfilename\u001b[0m\u001b[1;33m)\u001b[0m\u001b[1;33m\u001b[0m\u001b[1;33m\u001b[0m\u001b[0m\n\u001b[0m\u001b[0;32m      8\u001b[0m     \u001b[1;32mfor\u001b[0m \u001b[0mj\u001b[0m \u001b[1;32min\u001b[0m \u001b[0mx\u001b[0m\u001b[1;33m:\u001b[0m\u001b[1;33m\u001b[0m\u001b[1;33m\u001b[0m\u001b[0m\n\u001b[0;32m      9\u001b[0m         \u001b[0mfilepath\u001b[0m \u001b[1;33m=\u001b[0m\u001b[0mos\u001b[0m\u001b[1;33m.\u001b[0m\u001b[0mpath\u001b[0m\u001b[1;33m.\u001b[0m\u001b[0mjoin\u001b[0m\u001b[1;33m(\u001b[0m\u001b[0mfilename\u001b[0m\u001b[1;33m,\u001b[0m\u001b[0mj\u001b[0m\u001b[1;33m)\u001b[0m\u001b[1;33m\u001b[0m\u001b[1;33m\u001b[0m\u001b[0m\n",
      "\u001b[1;31mFileNotFoundError\u001b[0m: [WinError 3] The system cannot find the path specified: 'E:\\\\Invoices\\\\5.May\\\\IMAGINEA'"
     ]
    }
   ],
   "source": [
    "a=0\n",
    "for i in month:\n",
    "    y  = \"E:\\Invoices\"+\"\\\\\"+i\n",
    "    print(y)\n",
    "    filename  = os.path.join(y, \"IMAGINEA\")\n",
    "    print(filename)\n",
    "    x = os.listdir(filename)\n",
    "    for j in x:\n",
    "        filepath =os.path.join(filename,j)\n",
    "        print(filepath)  \n",
    "    \n",
    "        df = tabula.read_pdf(filepath, pages = 1)\n",
    "        data.loc[a,'Month'] = i\n",
    "        data.loc[a,'Path'] = filepath\n",
    "        b = pd.DataFrame(df)\n",
    "        print(b)\n",
    "        data.loc[a, 'Reference'] =b[1:2]\n",
    "        a=a+1\n"
   ]
  },
  {
   "cell_type": "code",
   "execution_count": 32,
   "metadata": {},
   "outputs": [
    {
     "data": {
      "text/plain": [
       "['4.April', '5.May', '6.June', '7.July', '8.August', '9.September']"
      ]
     },
     "execution_count": 32,
     "metadata": {},
     "output_type": "execute_result"
    }
   ],
   "source": [
    "filenames"
   ]
  },
  {
   "cell_type": "code",
   "execution_count": 158,
   "metadata": {},
   "outputs": [
    {
     "data": {
      "text/html": [
       "<div>\n",
       "<style scoped>\n",
       "    .dataframe tbody tr th:only-of-type {\n",
       "        vertical-align: middle;\n",
       "    }\n",
       "\n",
       "    .dataframe tbody tr th {\n",
       "        vertical-align: top;\n",
       "    }\n",
       "\n",
       "    .dataframe thead th {\n",
       "        text-align: right;\n",
       "    }\n",
       "</style>\n",
       "<table border=\"1\" class=\"dataframe\">\n",
       "  <thead>\n",
       "    <tr style=\"text-align: right;\">\n",
       "      <th></th>\n",
       "      <th>Unnamed: 0</th>\n",
       "      <th>Bill To:</th>\n",
       "      <th>Ship To:</th>\n",
       "      <th>Month</th>\n",
       "      <th>Path</th>\n",
       "      <th>Reference</th>\n",
       "      <th>4</th>\n",
       "    </tr>\n",
       "  </thead>\n",
       "  <tbody>\n",
       "    <tr>\n",
       "      <th>5</th>\n",
       "      <td>Reference:</td>\n",
       "      <td>AO dated 6-Dec-19 &amp; AO dated 04-May-20</td>\n",
       "      <td>NaN</td>\n",
       "      <td>4.April</td>\n",
       "      <td>E:\\Invoices\\4.April\\IMAGINEA\\Invoice_AJG-Imagi...</td>\n",
       "      <td>NaN</td>\n",
       "      <td>NaN</td>\n",
       "    </tr>\n",
       "    <tr>\n",
       "      <th>0</th>\n",
       "      <td>NaN</td>\n",
       "      <td>NaN</td>\n",
       "      <td>NaN</td>\n",
       "      <td>4.April</td>\n",
       "      <td>E:\\Invoices\\4.April\\IMAGINEA\\Ericsson - April_...</td>\n",
       "      <td>NaN</td>\n",
       "      <td>NaN</td>\n",
       "    </tr>\n",
       "    <tr>\n",
       "      <th>1</th>\n",
       "      <td>NaN</td>\n",
       "      <td>NaN</td>\n",
       "      <td>NaN</td>\n",
       "      <td>4.April</td>\n",
       "      <td>E:\\Invoices\\4.April\\IMAGINEA\\Ericsson - April_...</td>\n",
       "      <td>NaN</td>\n",
       "      <td>NaN</td>\n",
       "    </tr>\n",
       "    <tr>\n",
       "      <th>2</th>\n",
       "      <td>NaN</td>\n",
       "      <td>NaN</td>\n",
       "      <td>NaN</td>\n",
       "      <td>4.April</td>\n",
       "      <td>E:\\Invoices\\4.April\\IMAGINEA\\Ericsson - April_...</td>\n",
       "      <td>NaN</td>\n",
       "      <td>NaN</td>\n",
       "    </tr>\n",
       "    <tr>\n",
       "      <th>3</th>\n",
       "      <td>NaN</td>\n",
       "      <td>NaN</td>\n",
       "      <td>NaN</td>\n",
       "      <td>4.April</td>\n",
       "      <td>E:\\Invoices\\4.April\\IMAGINEA\\Ericsson - April_...</td>\n",
       "      <td>NaN</td>\n",
       "      <td>NaN</td>\n",
       "    </tr>\n",
       "    <tr>\n",
       "      <th>...</th>\n",
       "      <td>...</td>\n",
       "      <td>...</td>\n",
       "      <td>...</td>\n",
       "      <td>...</td>\n",
       "      <td>...</td>\n",
       "      <td>...</td>\n",
       "      <td>...</td>\n",
       "    </tr>\n",
       "    <tr>\n",
       "      <th>176</th>\n",
       "      <td>NaN</td>\n",
       "      <td>NaN</td>\n",
       "      <td>NaN</td>\n",
       "      <td>8.August</td>\n",
       "      <td>E:\\Invoices\\8.August\\IMAGINEA\\Invoice_ThroughP...</td>\n",
       "      <td>NaN</td>\n",
       "      <td>NaN</td>\n",
       "    </tr>\n",
       "    <tr>\n",
       "      <th>177</th>\n",
       "      <td>NaN</td>\n",
       "      <td>NaN</td>\n",
       "      <td>NaN</td>\n",
       "      <td>8.August</td>\n",
       "      <td>E:\\Invoices\\8.August\\IMAGINEA\\Invoice_Turvo_Au...</td>\n",
       "      <td>NaN</td>\n",
       "      <td>NaN</td>\n",
       "    </tr>\n",
       "    <tr>\n",
       "      <th>178</th>\n",
       "      <td>NaN</td>\n",
       "      <td>NaN</td>\n",
       "      <td>NaN</td>\n",
       "      <td>8.August</td>\n",
       "      <td>E:\\Invoices\\8.August\\IMAGINEA\\Invoice_Valet Li...</td>\n",
       "      <td>NaN</td>\n",
       "      <td>NaN</td>\n",
       "    </tr>\n",
       "    <tr>\n",
       "      <th>179</th>\n",
       "      <td>NaN</td>\n",
       "      <td>NaN</td>\n",
       "      <td>NaN</td>\n",
       "      <td>8.August</td>\n",
       "      <td>E:\\Invoices\\8.August\\IMAGINEA\\Invoice_Verana H...</td>\n",
       "      <td>NaN</td>\n",
       "      <td>NaN</td>\n",
       "    </tr>\n",
       "    <tr>\n",
       "      <th>180</th>\n",
       "      <td>NaN</td>\n",
       "      <td>NaN</td>\n",
       "      <td>NaN</td>\n",
       "      <td>8.August</td>\n",
       "      <td>E:\\Invoices\\8.August\\IMAGINEA\\Invoice_Western ...</td>\n",
       "      <td>NaN</td>\n",
       "      <td>NaN</td>\n",
       "    </tr>\n",
       "  </tbody>\n",
       "</table>\n",
       "<p>181 rows × 7 columns</p>\n",
       "</div>"
      ],
      "text/plain": [
       "     Unnamed: 0                                Bill To:  Ship To:     Month  \\\n",
       "5    Reference:  AO dated 6-Dec-19 & AO dated 04-May-20       NaN   4.April   \n",
       "0           NaN                                     NaN       NaN   4.April   \n",
       "1           NaN                                     NaN       NaN   4.April   \n",
       "2           NaN                                     NaN       NaN   4.April   \n",
       "3           NaN                                     NaN       NaN   4.April   \n",
       "..          ...                                     ...       ...       ...   \n",
       "176         NaN                                     NaN       NaN  8.August   \n",
       "177         NaN                                     NaN       NaN  8.August   \n",
       "178         NaN                                     NaN       NaN  8.August   \n",
       "179         NaN                                     NaN       NaN  8.August   \n",
       "180         NaN                                     NaN       NaN  8.August   \n",
       "\n",
       "                                                  Path  Reference   4  \n",
       "5    E:\\Invoices\\4.April\\IMAGINEA\\Invoice_AJG-Imagi...        NaN NaN  \n",
       "0    E:\\Invoices\\4.April\\IMAGINEA\\Ericsson - April_...        NaN NaN  \n",
       "1    E:\\Invoices\\4.April\\IMAGINEA\\Ericsson - April_...        NaN NaN  \n",
       "2    E:\\Invoices\\4.April\\IMAGINEA\\Ericsson - April_...        NaN NaN  \n",
       "3    E:\\Invoices\\4.April\\IMAGINEA\\Ericsson - April_...        NaN NaN  \n",
       "..                                                 ...        ...  ..  \n",
       "176  E:\\Invoices\\8.August\\IMAGINEA\\Invoice_ThroughP...        NaN NaN  \n",
       "177  E:\\Invoices\\8.August\\IMAGINEA\\Invoice_Turvo_Au...        NaN NaN  \n",
       "178  E:\\Invoices\\8.August\\IMAGINEA\\Invoice_Valet Li...        NaN NaN  \n",
       "179  E:\\Invoices\\8.August\\IMAGINEA\\Invoice_Verana H...        NaN NaN  \n",
       "180  E:\\Invoices\\8.August\\IMAGINEA\\Invoice_Western ...        NaN NaN  \n",
       "\n",
       "[181 rows x 7 columns]"
      ]
     },
     "execution_count": 158,
     "metadata": {},
     "output_type": "execute_result"
    }
   ],
   "source": [
    "data"
   ]
  },
  {
   "cell_type": "code",
   "execution_count": 34,
   "metadata": {},
   "outputs": [
    {
     "name": "stdout",
     "output_type": "stream",
     "text": [
      "4.April\n",
      "5.May\n",
      "6.June\n",
      "7.July\n",
      "8.August\n",
      "9.September\n"
     ]
    }
   ],
   "source": [
    "for i in filenames:\n",
    "    print(i)"
   ]
  },
  {
   "cell_type": "code",
   "execution_count": null,
   "metadata": {},
   "outputs": [],
   "source": []
  },
  {
   "cell_type": "code",
   "execution_count": null,
   "metadata": {},
   "outputs": [],
   "source": []
  },
  {
   "cell_type": "code",
   "execution_count": null,
   "metadata": {},
   "outputs": [],
   "source": []
  },
  {
   "cell_type": "code",
   "execution_count": null,
   "metadata": {},
   "outputs": [],
   "source": []
  }
 ],
 "metadata": {
  "kernelspec": {
   "display_name": "Python 3",
   "language": "python",
   "name": "python3"
  },
  "language_info": {
   "codemirror_mode": {
    "name": "ipython",
    "version": 3
   },
   "file_extension": ".py",
   "mimetype": "text/x-python",
   "name": "python",
   "nbconvert_exporter": "python",
   "pygments_lexer": "ipython3",
   "version": "3.8.4"
  }
 },
 "nbformat": 4,
 "nbformat_minor": 4
}
